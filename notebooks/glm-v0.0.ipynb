{
 "cells": [
  {
   "cell_type": "markdown",
   "id": "e9c765ab",
   "metadata": {},
   "source": [
    "# Diving into the Housing Market"
   ]
  },
  {
   "cell_type": "markdown",
   "id": "aa8b3a25",
   "metadata": {},
   "source": [
    "**A few goals of this notebook**\n",
    "1. Explore the housing data\n",
    "2. Univariate + Multivariate analysis\n",
    "3. Crime correlation to price\n",
    "4. Modelling (Boosted trees vs GLM)"
   ]
  },
  {
   "cell_type": "code",
   "execution_count": 1,
   "id": "94bd0a98",
   "metadata": {},
   "outputs": [
    {
     "data": {
      "text/html": [
       "<div>\n",
       "<style scoped>\n",
       "    .dataframe tbody tr th:only-of-type {\n",
       "        vertical-align: middle;\n",
       "    }\n",
       "\n",
       "    .dataframe tbody tr th {\n",
       "        vertical-align: top;\n",
       "    }\n",
       "\n",
       "    .dataframe thead th {\n",
       "        text-align: right;\n",
       "    }\n",
       "</style>\n",
       "<table border=\"1\" class=\"dataframe\">\n",
       "  <thead>\n",
       "    <tr style=\"text-align: right;\">\n",
       "      <th></th>\n",
       "      <th>Id</th>\n",
       "      <th>MSSubClass</th>\n",
       "      <th>MSZoning</th>\n",
       "      <th>LotFrontage</th>\n",
       "      <th>LotArea</th>\n",
       "      <th>Street</th>\n",
       "      <th>Alley</th>\n",
       "      <th>LotShape</th>\n",
       "      <th>LandContour</th>\n",
       "      <th>Utilities</th>\n",
       "      <th>...</th>\n",
       "      <th>PoolArea</th>\n",
       "      <th>PoolQC</th>\n",
       "      <th>Fence</th>\n",
       "      <th>MiscFeature</th>\n",
       "      <th>MiscVal</th>\n",
       "      <th>MoSold</th>\n",
       "      <th>YrSold</th>\n",
       "      <th>SaleType</th>\n",
       "      <th>SaleCondition</th>\n",
       "      <th>SalePrice</th>\n",
       "    </tr>\n",
       "  </thead>\n",
       "  <tbody>\n",
       "    <tr>\n",
       "      <th>0</th>\n",
       "      <td>1</td>\n",
       "      <td>60</td>\n",
       "      <td>RL</td>\n",
       "      <td>65.0</td>\n",
       "      <td>8450</td>\n",
       "      <td>Pave</td>\n",
       "      <td>NaN</td>\n",
       "      <td>Reg</td>\n",
       "      <td>Lvl</td>\n",
       "      <td>AllPub</td>\n",
       "      <td>...</td>\n",
       "      <td>0</td>\n",
       "      <td>NaN</td>\n",
       "      <td>NaN</td>\n",
       "      <td>NaN</td>\n",
       "      <td>0</td>\n",
       "      <td>2</td>\n",
       "      <td>2008</td>\n",
       "      <td>WD</td>\n",
       "      <td>Normal</td>\n",
       "      <td>208500</td>\n",
       "    </tr>\n",
       "    <tr>\n",
       "      <th>1</th>\n",
       "      <td>2</td>\n",
       "      <td>20</td>\n",
       "      <td>RL</td>\n",
       "      <td>80.0</td>\n",
       "      <td>9600</td>\n",
       "      <td>Pave</td>\n",
       "      <td>NaN</td>\n",
       "      <td>Reg</td>\n",
       "      <td>Lvl</td>\n",
       "      <td>AllPub</td>\n",
       "      <td>...</td>\n",
       "      <td>0</td>\n",
       "      <td>NaN</td>\n",
       "      <td>NaN</td>\n",
       "      <td>NaN</td>\n",
       "      <td>0</td>\n",
       "      <td>5</td>\n",
       "      <td>2007</td>\n",
       "      <td>WD</td>\n",
       "      <td>Normal</td>\n",
       "      <td>181500</td>\n",
       "    </tr>\n",
       "    <tr>\n",
       "      <th>2</th>\n",
       "      <td>3</td>\n",
       "      <td>60</td>\n",
       "      <td>RL</td>\n",
       "      <td>68.0</td>\n",
       "      <td>11250</td>\n",
       "      <td>Pave</td>\n",
       "      <td>NaN</td>\n",
       "      <td>IR1</td>\n",
       "      <td>Lvl</td>\n",
       "      <td>AllPub</td>\n",
       "      <td>...</td>\n",
       "      <td>0</td>\n",
       "      <td>NaN</td>\n",
       "      <td>NaN</td>\n",
       "      <td>NaN</td>\n",
       "      <td>0</td>\n",
       "      <td>9</td>\n",
       "      <td>2008</td>\n",
       "      <td>WD</td>\n",
       "      <td>Normal</td>\n",
       "      <td>223500</td>\n",
       "    </tr>\n",
       "    <tr>\n",
       "      <th>3</th>\n",
       "      <td>4</td>\n",
       "      <td>70</td>\n",
       "      <td>RL</td>\n",
       "      <td>60.0</td>\n",
       "      <td>9550</td>\n",
       "      <td>Pave</td>\n",
       "      <td>NaN</td>\n",
       "      <td>IR1</td>\n",
       "      <td>Lvl</td>\n",
       "      <td>AllPub</td>\n",
       "      <td>...</td>\n",
       "      <td>0</td>\n",
       "      <td>NaN</td>\n",
       "      <td>NaN</td>\n",
       "      <td>NaN</td>\n",
       "      <td>0</td>\n",
       "      <td>2</td>\n",
       "      <td>2006</td>\n",
       "      <td>WD</td>\n",
       "      <td>Abnorml</td>\n",
       "      <td>140000</td>\n",
       "    </tr>\n",
       "  </tbody>\n",
       "</table>\n",
       "<p>4 rows × 81 columns</p>\n",
       "</div>"
      ],
      "text/plain": [
       "   Id  MSSubClass MSZoning  LotFrontage  LotArea Street Alley LotShape  \\\n",
       "0   1          60       RL         65.0     8450   Pave   NaN      Reg   \n",
       "1   2          20       RL         80.0     9600   Pave   NaN      Reg   \n",
       "2   3          60       RL         68.0    11250   Pave   NaN      IR1   \n",
       "3   4          70       RL         60.0     9550   Pave   NaN      IR1   \n",
       "\n",
       "  LandContour Utilities  ... PoolArea PoolQC Fence MiscFeature MiscVal MoSold  \\\n",
       "0         Lvl    AllPub  ...        0    NaN   NaN         NaN       0      2   \n",
       "1         Lvl    AllPub  ...        0    NaN   NaN         NaN       0      5   \n",
       "2         Lvl    AllPub  ...        0    NaN   NaN         NaN       0      9   \n",
       "3         Lvl    AllPub  ...        0    NaN   NaN         NaN       0      2   \n",
       "\n",
       "  YrSold  SaleType  SaleCondition  SalePrice  \n",
       "0   2008        WD         Normal     208500  \n",
       "1   2007        WD         Normal     181500  \n",
       "2   2008        WD         Normal     223500  \n",
       "3   2006        WD        Abnorml     140000  \n",
       "\n",
       "[4 rows x 81 columns]"
      ]
     },
     "execution_count": 1,
     "metadata": {},
     "output_type": "execute_result"
    }
   ],
   "source": [
    "import pandas as pd \n",
    "import seaborn as sns\n",
    "import matplotlib.pyplot as plt\n",
    "import lightgbm as lgb\n",
    "import numpy as np\n",
    "\n",
    "from sklearn.model_selection import KFold\n",
    "from sklearn.model_selection import cross_val_score\n",
    "from sklearn.model_selection import train_test_split\n",
    "from sklearn.metrics import r2_score\n",
    "from sklearn.preprocessing import LabelEncoder\n",
    "\n",
    "\n",
    "le = LabelEncoder()\n",
    "\n",
    "\n",
    "import warnings\n",
    "warnings.filterwarnings('ignore')\n",
    "sns.set()\n",
    "\n",
    "df = pd.read_csv('..//data/train.csv')\n",
    "df[:4]"
   ]
  },
  {
   "cell_type": "code",
   "execution_count": 2,
   "id": "9f862115",
   "metadata": {},
   "outputs": [
    {
     "data": {
      "text/plain": [
       "<AxesSubplot:xlabel='SalePrice'>"
      ]
     },
     "execution_count": 2,
     "metadata": {},
     "output_type": "execute_result"
    },
    {
     "data": {
      "image/png": "[encoded data removed]",
      "text/plain": [
       "<Figure size 432x288 with 1 Axes>"
      ]
     },
     "metadata": {},
     "output_type": "display_data"
    }
   ],
   "source": [
    "sns.boxplot(df['SalePrice'])"
   ]
  },
  {
   "cell_type": "code",
   "execution_count": 3,
   "id": "624e6585",
   "metadata": {},
   "outputs": [],
   "source": [
    "n_cols = df.select_dtypes(['int','float']).columns.tolist()\n",
    "obj_cols = df.select_dtypes('object').columns.tolist()"
   ]
  },
  {
   "cell_type": "markdown",
   "id": "be951a24",
   "metadata": {},
   "source": [
    "# Feat Eng"
   ]
  },
  {
   "cell_type": "code",
   "execution_count": 4,
   "id": "35ee57fa",
   "metadata": {},
   "outputs": [],
   "source": [
    "def feat_eng(frame, cols, test_set = False): \n",
    "    \n",
    "    norm = [ \n",
    "        'GrLivArea',\n",
    "        '1stFlrSF',\n",
    "        'LotArea',\n",
    "        ]\n",
    "        \n",
    "    if test_set == True:\n",
    "        pass\n",
    "    else:\n",
    "        norm.append('SalePrice')\n",
    "    \n",
    "    # Encode Variabels\n",
    "    for i in cols: \n",
    "        frame[i] = frame[i].fillna('None')\n",
    "        frame[i] = le.fit_transform(frame[i])\n",
    "\n",
    "    \n",
    "    # Log normalize vars\n",
    "    frame[norm] = np.log1p(frame[norm])             \n",
    "\n",
    "\n",
    "    return frame                       \n",
    "\n",
    "\n",
    "df = feat_eng(df, obj_cols)"
   ]
  },
  {
   "cell_type": "code",
   "execution_count": 5,
   "id": "2b0a435e",
   "metadata": {},
   "outputs": [
    {
     "name": "stdout",
     "output_type": "stream",
     "text": [
      "Index(['Id', 'MSSubClass', 'LotFrontage', 'LotArea', 'OverallQual',\n",
      "       'OverallCond', 'YearBuilt', 'YearRemodAdd', 'MasVnrArea', 'BsmtFinSF1',\n",
      "       'BsmtFinSF2', 'BsmtUnfSF', 'TotalBsmtSF', '1stFlrSF', '2ndFlrSF',\n",
      "       'LowQualFinSF', 'GrLivArea', 'BsmtFullBath', 'BsmtHalfBath', 'FullBath',\n",
      "       'HalfBath', 'BedroomAbvGr', 'KitchenAbvGr', 'TotRmsAbvGrd',\n",
      "       'Fireplaces', 'GarageYrBlt', 'GarageCars', 'GarageArea', 'WoodDeckSF',\n",
      "       'OpenPorchSF', 'EnclosedPorch', '3SsnPorch', 'ScreenPorch', 'PoolArea',\n",
      "       'MiscVal', 'MoSold', 'YrSold', 'SalePrice', 'MSZoning', 'Street',\n",
      "       'Alley', 'LotShape', 'LandContour', 'Utilities', 'LotConfig',\n",
      "       'LandSlope', 'Neighborhood', 'Condition1', 'Condition2', 'BldgType',\n",
      "       'HouseStyle', 'RoofStyle', 'RoofMatl', 'Exterior1st', 'Exterior2nd',\n",
      "       'MasVnrType', 'ExterQual', 'ExterCond', 'Foundation', 'BsmtQual',\n",
      "       'BsmtCond', 'BsmtExposure', 'BsmtFinType1', 'BsmtFinType2', 'Heating',\n",
      "       'HeatingQC', 'CentralAir', 'Electrical', 'KitchenQual', 'Functional',\n",
      "       'FireplaceQu', 'GarageType', 'GarageFinish', 'GarageQual', 'GarageCond',\n",
      "       'PavedDrive', 'PoolQC', 'Fence', 'MiscFeature', 'SaleType',\n",
      "       'SaleCondition'],\n",
      "      dtype='object')\n"
     ]
    }
   ],
   "source": [
    "train = df[n_cols+obj_cols]\n",
    "cols = n_cols + obj_cols\n",
    "print(train.columns)\n"
   ]
  },
  {
   "cell_type": "markdown",
   "id": "90190a2f",
   "metadata": {},
   "source": [
    "# Train Base Model "
   ]
  },
  {
   "cell_type": "code",
   "execution_count": 6,
   "id": "a2a745c5",
   "metadata": {},
   "outputs": [],
   "source": [
    "train = train.fillna(train[cols].mean())\n",
    "train.drop(columns=['Id'], inplace=True)"
   ]
  },
  {
   "cell_type": "markdown",
   "id": "419fd150",
   "metadata": {},
   "source": [
    "# Set Training and Test Set"
   ]
  },
  {
   "cell_type": "code",
   "execution_count": 7,
   "id": "812eedc2",
   "metadata": {},
   "outputs": [],
   "source": [
    "X = train.drop(columns=['SalePrice'])\n",
    "for i in obj_cols: \n",
    "    X[i] = le.fit_transform(X[i])\n",
    "\n",
    "y = train['SalePrice']\n",
    "X_train,X_test,y_train,y_test = train_test_split(X,y,train_size=.8)\n",
    "y_test.reset_index(inplace=True,drop=True)"
   ]
  },
  {
   "cell_type": "markdown",
   "id": "036a830f",
   "metadata": {},
   "source": [
    "# Cross Validation\n",
    "**Test Multiple LR Models**"
   ]
  },
  {
   "cell_type": "code",
   "execution_count": 8,
   "id": "9801cb1c",
   "metadata": {},
   "outputs": [
    {
     "name": "stdout",
     "output_type": "stream",
     "text": [
      "LGBMRegressor()\n",
      " \t\t{'n_estimators': [10, 15, 20, 25, 30, 35, 40, 45, 50, 55, 60, 65, 70, 75, 100, 200], 'num_leaves': [2, 3, 5, 7, 10, 15, 20, 25, 50, 75, 100], 'max_depth': [1, 2, 5, 10, 15, 20, 25, 50], 'learning_rate': [0.005, 0.05, 0.1, 0.11, 0.12, 0.13, 0.14, 0.15, 0.2]} \n",
      "\n"
     ]
    },
    {
     "data": {
      "text/html": [
       "<div>\n",
       "<style scoped>\n",
       "    .dataframe tbody tr th:only-of-type {\n",
       "        vertical-align: middle;\n",
       "    }\n",
       "\n",
       "    .dataframe tbody tr th {\n",
       "        vertical-align: top;\n",
       "    }\n",
       "\n",
       "    .dataframe thead th {\n",
       "        text-align: right;\n",
       "    }\n",
       "</style>\n",
       "<table border=\"1\" class=\"dataframe\">\n",
       "  <thead>\n",
       "    <tr style=\"text-align: right;\">\n",
       "      <th></th>\n",
       "      <th>Scores</th>\n",
       "      <th>BestParams</th>\n",
       "    </tr>\n",
       "  </thead>\n",
       "  <tbody>\n",
       "    <tr>\n",
       "      <th>LGBM Regressor</th>\n",
       "      <td>88.445002</td>\n",
       "      <td>[{'boosting_type': 'gbdt', 'class_weight': Non...</td>\n",
       "    </tr>\n",
       "  </tbody>\n",
       "</table>\n",
       "</div>"
      ],
      "text/plain": [
       "                   Scores                                         BestParams\n",
       "LGBM Regressor  88.445002  [{'boosting_type': 'gbdt', 'class_weight': Non..."
      ]
     },
     "execution_count": 8,
     "metadata": {},
     "output_type": "execute_result"
    }
   ],
   "source": [
    "from sklearn.model_selection import GridSearchCV\n",
    "from sklearn.linear_model import LinearRegression\n",
    "from sklearn.ensemble import RandomForestRegressor\n",
    "from lightgbm import LGBMRegressor as lgbm\n",
    "\n",
    "linear_model = LinearRegression()\n",
    "rf_model = RandomForestRegressor()\n",
    "lgb_model = lgbm()\n",
    "\n",
    "lgb_params = {\n",
    "    'n_estimators' : [10,15,20, 25, 30, 35, 40, 45, 50, 55, 60, 65, 70 , 75,100,200],\n",
    "    'num_leaves': [2,3,5,7,10,15,20,25,50,75,100],\n",
    "    'max_depth':[1,2,5,10,15,20,25,50],\n",
    "    'learning_rate':[.005, .05,.1,.11,.12,.13,.14,.15,.2]\n",
    "            }\n",
    "\n",
    "linear_params = {\n",
    "    'normalize' : [False]\n",
    "}\n",
    "            \n",
    "rf_params = {\n",
    "    'n_estimators' : [10,15,20, 25,50,75,100,200],    \n",
    "}\n",
    "\n",
    "lgb_scores = list()\n",
    "rf_scores = list()\n",
    "lr_scores = list()\n",
    "\n",
    "lgb_best = list()\n",
    "rf_best = list()\n",
    "lr_best = list()\n",
    "\n",
    "models = [lgb_model,]  #  rf_model, linear_model\n",
    "params = [lgb_params,] #  rf_params, linear_params\n",
    "scores = [lgb_scores,] #rf_scores, lr_scores\n",
    "best_params = [lgb_best,]  # rf_best,lr_best\n",
    "\n",
    "kfold = KFold(n_splits=5, shuffle=True)\n",
    "for model, parameters, score, best in zip(models, params, scores, best_params):\n",
    "    print(f'{model}\\n \\t\\t{parameters} \\n')\n",
    "    tuning = GridSearchCV(model, parameters, cv=5, n_jobs=-1, verbose=0)\n",
    "    best_mod = tuning.fit(X_train,y_train)\n",
    "    results = cross_val_score(model, X, y, cv=kfold,)\n",
    "    score.append(results.mean() * 100)\n",
    "    best.append(best_mod.best_estimator_.get_params())\n",
    "\n",
    "final_scores = {'LGBM Regressor' : scores[0], \n",
    "                # 'RF Regressor' : scores[1],\n",
    "                # 'LinearRegresssor' : scores[2]\n",
    "                }\n",
    "\n",
    "results = pd.DataFrame(final_scores).T\n",
    "results.rename(columns={0:'Scores'}, inplace=True)\n",
    "results['BestParams'] = best_params\n",
    "results\n"
   ]
  },
  {
   "cell_type": "code",
   "execution_count": 9,
   "id": "fff46df9",
   "metadata": {},
   "outputs": [],
   "source": [
    "feats = results['BestParams']['LGBM Regressor']\n",
    "model = lgb.LGBMRegressor(\n",
    "    **feats[0]\n",
    ")"
   ]
  },
  {
   "cell_type": "markdown",
   "id": "20e5dc8c",
   "metadata": {},
   "source": [
    "**Cross Val Score**"
   ]
  },
  {
   "cell_type": "code",
   "execution_count": 10,
   "id": "f24a6d33",
   "metadata": {},
   "outputs": [
    {
     "name": "stdout",
     "output_type": "stream",
     "text": [
      "Accuracy: 88.98366019502394\n"
     ]
    }
   ],
   "source": [
    "kfold = KFold(n_splits=6, shuffle=True)\n",
    "results = cross_val_score(model, X, y, cv=kfold,)\n",
    "print(f\"Accuracy: {results.mean() * 100}\")"
   ]
  },
  {
   "cell_type": "markdown",
   "id": "8e5c44c3",
   "metadata": {},
   "source": [
    "# Helper"
   ]
  },
  {
   "cell_type": "code",
   "execution_count": 15,
   "id": "20151010",
   "metadata": {},
   "outputs": [],
   "source": [
    "def fit_models(models, X_train,y_train,X_test): \n",
    "    for model in models: \n",
    "        model.fit(X_train,y_train)\n",
    "\n",
    "    d = dict()\n",
    "    for model in range(len(models)):\n",
    "        d[model] = models[model].predict(X_test)\n",
    "\n",
    "    preds = pd.DataFrame(d)\n",
    "    preds = preds.mean(axis=1)\n",
    "    return preds\n"
   ]
  },
  {
   "cell_type": "markdown",
   "id": "9cb2c4c2",
   "metadata": {},
   "source": [
    "# Fit"
   ]
  },
  {
   "cell_type": "markdown",
   "id": "abbbca76",
   "metadata": {},
   "source": [
    "# Stack Models"
   ]
  },
  {
   "cell_type": "code",
   "execution_count": 22,
   "id": "6d88a11a",
   "metadata": {},
   "outputs": [],
   "source": [
    "models = [\n",
    "    lgb.LGBMRegressor(**feats[0]),\n",
    "    LinearRegression(),\n",
    "    RandomForestRegressor()\n",
    "]"
   ]
  },
  {
   "cell_type": "code",
   "execution_count": 25,
   "id": "31f7deb3",
   "metadata": {},
   "outputs": [
    {
     "data": {
      "text/plain": [
       "0.8681824498258708"
      ]
     },
     "execution_count": 25,
     "metadata": {},
     "output_type": "execute_result"
    }
   ],
   "source": [
    "preds = fit_models(models,X_train,y_train,X_test)\n",
    "preds_exp = np.exp(preds)\n",
    "y_test_exp = np.exp(y_test)\n",
    "r2_score(y_test, preds)"
   ]
  },
  {
   "cell_type": "code",
   "execution_count": 27,
   "id": "98b58fbd",
   "metadata": {},
   "outputs": [
    {
     "data": {
      "text/plain": [
       "[<matplotlib.lines.Line2D at 0x17e695ff0>]"
      ]
     },
     "execution_count": 27,
     "metadata": {},
     "output_type": "execute_result"
    },
    {
     "data": {
      "image/png": "[encoded data removed]",
      "text/plain": [
       "<Figure size 504x216 with 1 Axes>"
      ]
     },
     "metadata": {},
     "output_type": "display_data"
    }
   ],
   "source": [
    "acc = pd.DataFrame({'y_test':y_test_exp, 'preds':preds_exp})\n",
    "m,b = np.polyfit(acc['y_test'],acc['preds'],1)\n",
    "\n",
    "fig = plt.figure(figsize=(7,3))\n",
    "sns.scatterplot(x=y_test_exp,y=preds_exp)\n",
    "plt.plot(acc['y_test'], m*acc['y_test'] + b, color='red')"
   ]
  },
  {
   "cell_type": "markdown",
   "id": "06da17c5",
   "metadata": {},
   "source": [
    "# Fit on Entire Dataset"
   ]
  },
  {
   "cell_type": "code",
   "execution_count": 28,
   "id": "b25cb8da",
   "metadata": {},
   "outputs": [],
   "source": [
    "for model in models: \n",
    "    model.fit(X,y)"
   ]
  },
  {
   "cell_type": "markdown",
   "id": "8c0477ba",
   "metadata": {},
   "source": [
    "**Apply Feature Engineering**"
   ]
  },
  {
   "cell_type": "code",
   "execution_count": 29,
   "id": "ccf4b46b",
   "metadata": {},
   "outputs": [],
   "source": [
    "test = pd.read_csv('../data/test.csv')\n",
    "test = feat_eng(test, obj_cols, test_set = True)\n",
    "test.drop(columns=['Id'])\n",
    "test_cols = [col for col in train.columns if col != 'SalePrice']\n",
    "test = test.fillna(test[test_cols].mean())\n"
   ]
  },
  {
   "cell_type": "code",
   "execution_count": 30,
   "id": "2ee962eb",
   "metadata": {},
   "outputs": [],
   "source": [
    "d = dict()\n",
    "for model in range(len(models)):\n",
    "    d[model] = models[model].predict(test[test_cols])\n",
    "\n",
    "preds = pd.DataFrame(d).mean(axis=1)"
   ]
  },
  {
   "cell_type": "markdown",
   "id": "a72af53c",
   "metadata": {},
   "source": [
    "**Write Out**"
   ]
  },
  {
   "cell_type": "code",
   "execution_count": 31,
   "id": "9be55ce4",
   "metadata": {},
   "outputs": [],
   "source": [
    "values_exp = np.exp(preds)\n",
    "pd.DataFrame({'Id':test['Id'], 'SalePrice':values_exp}).set_index('Id', drop=True).to_csv('preds.csv')"
   ]
  },
  {
   "cell_type": "code",
   "execution_count": 32,
   "id": "91cb5a7e",
   "metadata": {},
   "outputs": [
    {
     "data": {
      "text/plain": [
       "<AxesSubplot:xlabel='SalePrice', ylabel='Count'>"
      ]
     },
     "execution_count": 32,
     "metadata": {},
     "output_type": "execute_result"
    },
    {
     "data": {
      "image/png": "[encoded data removed]",
      "text/plain": [
       "<Figure size 504x360 with 1 Axes>"
      ]
     },
     "metadata": {},
     "output_type": "display_data"
    }
   ],
   "source": [
    "fig,axs = plt.subplots(1,figsize=(7,5))\n",
    "sns.histplot(preds, color='red')\n",
    "sns.histplot(train['SalePrice'], color='blue')"
   ]
  },
  {
   "cell_type": "code",
   "execution_count": null,
   "id": "45e418e2",
   "metadata": {},
   "outputs": [],
   "source": []
  }
 ],
 "metadata": {
  "interpreter": {
   "hash": "04cf1710cefb1bc0d9c8cdd6f42e6ad2d49c18187851d8f909a067fbede30719"
  },
  "kernelspec": {
   "display_name": "Python 3.10.5",
   "language": "python",
   "name": "python3"
  },
  "language_info": {
   "codemirror_mode": {
    "name": "ipython",
    "version": 3
   },
   "file_extension": ".py",
   "mimetype": "text/x-python",
   "name": "python",
   "nbconvert_exporter": "python",
   "pygments_lexer": "ipython3",
   "version": "3.10.5"
  }
 },
 "nbformat": 4,
 "nbformat_minor": 5
}
