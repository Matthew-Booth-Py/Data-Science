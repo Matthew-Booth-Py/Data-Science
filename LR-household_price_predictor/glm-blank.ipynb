{
 "cells": [
  {
   "cell_type": "markdown",
   "id": "625d3867-9275-4d93-82d5-601bedd4d5d8",
   "metadata": {},
   "source": [
    "# Download DataSets"
   ]
  },
  {
   "cell_type": "markdown",
   "id": "405e1519-d81f-42b2-9a84-09b395bed91f",
   "metadata": {},
   "source": [
    "Setup Kaggle API following this guide: https://python.plainenglish.io/how-to-use-the-kaggle-api-in-python-4d4c812c39c7"
   ]
  },
  {
   "cell_type": "code",
   "execution_count": 6,
   "id": "9e793354-f26d-40b8-be00-6fa0adb5e6f2",
   "metadata": {},
   "outputs": [],
   "source": [
    "from kaggle.api.kaggle_api_extended import KaggleApi\n",
    "api = KaggleApi()\n",
    "api.authenticate()\n",
    "\n",
    "api.competition_download_file('home-data-for-ml-course', \n",
    "                             'train.csv', path='./data/')\n",
    "\n",
    "api.competition_download_file('home-data-for-ml-course', \n",
    "                             'test.csv', path='./data/')"
   ]
  },
  {
   "cell_type": "markdown",
   "id": "60b73507-833e-48f8-b5ae-d97b7619d1db",
   "metadata": {},
   "source": [
    "# Imports "
   ]
  },
  {
   "cell_type": "code",
   "execution_count": null,
   "id": "3f23f228-b345-410e-bea4-9d1038d9ef79",
   "metadata": {},
   "outputs": [],
   "source": []
  },
  {
   "cell_type": "markdown",
   "id": "ccfcfd0a-2c3a-4347-aab5-530ab20f2693",
   "metadata": {},
   "source": [
    "# Load Data"
   ]
  },
  {
   "cell_type": "code",
   "execution_count": null,
   "id": "62c77d80-cf6f-4284-90f9-9ca598eb111c",
   "metadata": {},
   "outputs": [],
   "source": []
  },
  {
   "cell_type": "markdown",
   "id": "d6cc755c-ec90-4bf3-9199-6fe286f68204",
   "metadata": {},
   "source": [
    "# EDA"
   ]
  },
  {
   "cell_type": "code",
   "execution_count": null,
   "id": "296e1b4d-5d1a-4867-817f-3d0716ef3838",
   "metadata": {},
   "outputs": [],
   "source": []
  },
  {
   "cell_type": "markdown",
   "id": "ee8d7d06-61ad-41f3-99c6-5eef78ae918b",
   "metadata": {},
   "source": [
    "# Feature Engineering"
   ]
  },
  {
   "cell_type": "code",
   "execution_count": null,
   "id": "32efee5c-a20e-4064-bbf6-be2a884ab087",
   "metadata": {},
   "outputs": [],
   "source": []
  },
  {
   "cell_type": "markdown",
   "id": "e5e338dc-0b20-4d7c-8147-7a79d810a5d9",
   "metadata": {},
   "source": [
    "# Split Train + Test"
   ]
  },
  {
   "cell_type": "code",
   "execution_count": null,
   "id": "64f08575-b188-495e-8623-ee13719889d4",
   "metadata": {},
   "outputs": [],
   "source": []
  },
  {
   "cell_type": "markdown",
   "id": "dac48a8c-6f76-403f-8ce2-49baad79985d",
   "metadata": {},
   "source": [
    "# Train Model"
   ]
  },
  {
   "cell_type": "code",
   "execution_count": null,
   "id": "5dacdccb-7bc7-484b-9f51-c8cdc1686bb1",
   "metadata": {},
   "outputs": [],
   "source": []
  },
  {
   "cell_type": "markdown",
   "id": "b28e13ea-a11b-4385-95b4-d0ecc5332342",
   "metadata": {},
   "source": [
    "# Evaluate Predictions"
   ]
  },
  {
   "cell_type": "code",
   "execution_count": null,
   "id": "a3a79e87-d970-40e7-9a45-6693dabc3f1e",
   "metadata": {},
   "outputs": [],
   "source": []
  }
 ],
 "metadata": {
  "kernelspec": {
   "display_name": "Python [conda env:ds]",
   "language": "python",
   "name": "conda-env-ds-py"
  },
  "language_info": {
   "codemirror_mode": {
    "name": "ipython",
    "version": 3
   },
   "file_extension": ".py",
   "mimetype": "text/x-python",
   "name": "python",
   "nbconvert_exporter": "python",
   "pygments_lexer": "ipython3",
   "version": "3.10.4"
  }
 },
 "nbformat": 4,
 "nbformat_minor": 5
}
