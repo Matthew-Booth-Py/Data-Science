{
 "cells": [
  {
   "cell_type": "code",
   "execution_count": 1,
   "id": "a5822e8a-af9b-4955-a9e2-55eef643a148",
   "metadata": {},
   "outputs": [],
   "source": [
    "import os \n",
    "import re \n",
    "\n",
    "import pandas as pd \n",
    "import lightgbm as lgb \n",
    "\n",
    "import sklearn.model_selection"
   ]
  },
  {
   "cell_type": "markdown",
   "id": "e0663ebf-8977-4288-a235-c2c65a2f15f5",
   "metadata": {},
   "source": [
    "# American Express Default Protection\n",
    "- Predict likelihood a customer will not pay off their credit-card balance in the future based off of past monthly profile."
   ]
  },
  {
   "cell_type": "markdown",
   "id": "6b97b2a4-6f17-406f-834b-19ab8193335b",
   "metadata": {},
   "source": [
    "The dataset contains aggregated profile features for each customer at each statement date. Features are anonymized and normalized, and fall into the following general categories:\n",
    "\n",
    "- D_* = Delinquency variables\n",
    "- S_* = Spend variables\n",
    "- P_* = Payment variables\n",
    "- B_* = Balance variables\n",
    "- R_* = Risk variables"
   ]
  },
  {
   "cell_type": "code",
   "execution_count": 2,
   "id": "3b4ef2fd-c48e-4743-bfdd-85dda8f4d92d",
   "metadata": {},
   "outputs": [],
   "source": [
    "categorical_feats = ['B_30', 'B_38', 'D_114', 'D_116', 'D_117', 'D_120', 'D_126', 'D_63', 'D_64', 'D_66', 'D_68']\n",
    "train = pd.read_parquet('data/train.ftr')\n",
    "test = pd.read_feather('data/test.ftr')"
   ]
  },
  {
   "cell_type": "code",
   "execution_count": null,
   "id": "7d9c611f-1093-4cb0-911a-4ffaddab8708",
   "metadata": {},
   "outputs": [],
   "source": []
  }
 ],
 "metadata": {
  "kernelspec": {
   "display_name": "Python [conda env:DS]",
   "language": "python",
   "name": "conda-env-DS-py"
  },
  "language_info": {
   "codemirror_mode": {
    "name": "ipython",
    "version": 3
   },
   "file_extension": ".py",
   "mimetype": "text/x-python",
   "name": "python",
   "nbconvert_exporter": "python",
   "pygments_lexer": "ipython3",
   "version": "3.10.5"
  }
 },
 "nbformat": 4,
 "nbformat_minor": 5
}
