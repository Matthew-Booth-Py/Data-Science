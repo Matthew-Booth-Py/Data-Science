{
 "cells": [
  {
   "cell_type": "code",
   "execution_count": 3,
   "id": "b7e75da9-ce91-4742-b9ac-941bc39dfba9",
   "metadata": {},
   "outputs": [],
   "source": [
    "import os, re, sys\n",
    "\n",
    "import pandas as pd\n",
    "import numpy as np \n",
    "import networkx as nx \n",
    "import kmeans"
   ]
  },
  {
   "cell_type": "code",
   "execution_count": 4,
   "id": "f1402152-6faa-4cdd-b2a5-1b012c409672",
   "metadata": {},
   "outputs": [
    {
     "name": "stderr",
     "output_type": "stream",
     "text": [
      "/var/folders/md/c9lgr11n7x1c0_tghtfh_kjr0000gn/T/ipykernel_17410/2089594497.py:1: DtypeWarning: Columns (10) have mixed types. Specify dtype option on import or set low_memory=False.\n",
      "  df = pd.read_csv('movies_metadata.csv')\n"
     ]
    }
   ],
   "source": [
    "df = pd.read_csv('movies_metadata.csv')"
   ]
  },
  {
   "cell_type": "code",
   "execution_count": 6,
   "id": "6e8ab9c5-ca1a-49f3-a9eb-c3e3072c25b2",
   "metadata": {},
   "outputs": [
    {
     "data": {
      "text/plain": [
       "Index(['adult', 'belongs_to_collection', 'budget', 'genres', 'homepage', 'id',\n",
       "       'imdb_id', 'original_language', 'original_title', 'overview',\n",
       "       'popularity', 'poster_path', 'production_companies',\n",
       "       'production_countries', 'release_date', 'revenue', 'runtime',\n",
       "       'spoken_languages', 'status', 'tagline', 'title', 'video',\n",
       "       'vote_average', 'vote_count'],\n",
       "      dtype='object')"
      ]
     },
     "execution_count": 6,
     "metadata": {},
     "output_type": "execute_result"
    }
   ],
   "source": [
    "df.columns"
   ]
  },
  {
   "cell_type": "code",
   "execution_count": 124,
   "id": "07888b7b-0d51-41cb-988d-fba2e44a2086",
   "metadata": {},
   "outputs": [],
   "source": [
    "def get_genres(ll): \n",
    "    ll = ll.split('{')\n",
    "    genres = list()\n",
    "    for i in ll: \n",
    "        new = i.split(',')\n",
    "        print(new)\n",
    "        if 'name' in new: \n",
    "            print('Name')\n",
    "            # print(i.split(','))\n",
    "            # gen = i.split(':')[1].replace('}','').replace(']','').replace(\"'\", '')\n",
    "            # genres.append(gen)\n",
    "    # return genres"
   ]
  },
  {
   "cell_type": "code",
   "execution_count": 127,
   "id": "f990ddba-f94e-4ebf-a027-0ceeee2e56c8",
   "metadata": {},
   "outputs": [
    {
     "data": {
      "text/plain": [
       "['[',\n",
       " \"'id': 16, 'name': 'Animation'}, \",\n",
       " \"'id': 35, 'name': 'Comedy'}, \",\n",
       " \"'id': 10751, 'name': 'Family'}]\"]"
      ]
     },
     "execution_count": 127,
     "metadata": {},
     "output_type": "execute_result"
    }
   ],
   "source": [
    "df['genres'][0].split('{')"
   ]
  },
  {
   "cell_type": "code",
   "execution_count": 125,
   "id": "51836d24-6c28-4863-841a-28392a399f34",
   "metadata": {},
   "outputs": [
    {
     "name": "stdout",
     "output_type": "stream",
     "text": [
      "['[']\n",
      "[\"'id': 16\", \" 'name': 'Animation'}\", ' ']\n",
      "[\"'id': 35\", \" 'name': 'Comedy'}\", ' ']\n",
      "[\"'id': 10751\", \" 'name': 'Family'}]\"]\n"
     ]
    }
   ],
   "source": [
    "get_genres(df['genres'][0])"
   ]
  },
  {
   "cell_type": "code",
   "execution_count": 99,
   "id": "e79679fa-022c-4232-b0d8-be7e5f8a1a44",
   "metadata": {},
   "outputs": [
    {
     "ename": "AttributeError",
     "evalue": "'list' object has no attribute 'split'",
     "output_type": "error",
     "traceback": [
      "\u001b[0;31m---------------------------------------------------------------------------\u001b[0m",
      "\u001b[0;31mAttributeError\u001b[0m                            Traceback (most recent call last)",
      "Input \u001b[0;32mIn [99]\u001b[0m, in \u001b[0;36m<cell line: 1>\u001b[0;34m()\u001b[0m\n\u001b[0;32m----> 1\u001b[0m \u001b[43mget_genres\u001b[49m\u001b[43m(\u001b[49m\u001b[43ml\u001b[49m\u001b[43m)\u001b[49m\n",
      "Input \u001b[0;32mIn [96]\u001b[0m, in \u001b[0;36mget_genres\u001b[0;34m(ll)\u001b[0m\n\u001b[1;32m      1\u001b[0m \u001b[38;5;28;01mdef\u001b[39;00m \u001b[38;5;21mget_genres\u001b[39m(ll): \n\u001b[0;32m----> 2\u001b[0m     ll \u001b[38;5;241m=\u001b[39m \u001b[43ml\u001b[49m\u001b[38;5;241;43m.\u001b[39;49m\u001b[43msplit\u001b[49m(\u001b[38;5;124m'\u001b[39m\u001b[38;5;124m{\u001b[39m\u001b[38;5;124m'\u001b[39m)\n\u001b[1;32m      3\u001b[0m     \u001b[38;5;28mprint\u001b[39m(ll)\n\u001b[1;32m      4\u001b[0m     genres \u001b[38;5;241m=\u001b[39m \u001b[38;5;28mlist\u001b[39m()\n",
      "\u001b[0;31mAttributeError\u001b[0m: 'list' object has no attribute 'split'"
     ]
    }
   ],
   "source": [
    "get_genres(l)"
   ]
  },
  {
   "cell_type": "code",
   "execution_count": null,
   "id": "a8108146-53b9-4ca3-ac83-e73c483edccf",
   "metadata": {},
   "outputs": [],
   "source": []
  }
 ],
 "metadata": {
  "kernelspec": {
   "display_name": "Python [conda env:DS]",
   "language": "python",
   "name": "conda-env-DS-py"
  },
  "language_info": {
   "codemirror_mode": {
    "name": "ipython",
    "version": 3
   },
   "file_extension": ".py",
   "mimetype": "text/x-python",
   "name": "python",
   "nbconvert_exporter": "python",
   "pygments_lexer": "ipython3",
   "version": "3.10.5"
  }
 },
 "nbformat": 4,
 "nbformat_minor": 5
}
