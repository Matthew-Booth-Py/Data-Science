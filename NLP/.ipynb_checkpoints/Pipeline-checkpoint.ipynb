{
 "cells": [
  {
   "cell_type": "code",
   "execution_count": 19,
   "metadata": {},
   "outputs": [],
   "source": [
    "import pandas as pd\n",
    "import nltk\n",
    "import lightgbm\n",
    "import yellowbrick\n",
    "from nltk.tokenize import sent_tokenize, word_tokenize\n",
    "from nltk.corpus import stopwords\n",
    "from gensim.models import Word2Vec\n",
    "from sklearn.pipeline import make_pipeline\n",
    "from sklearn.feature_extraction.text import TfidfVectorizer\n",
    "from sklearn.model_selection import train_test_split\n",
    "from sklearn.model_selection import cross_val_score\n",
    "from sklearn.ensemble import RandomForestClassifier\n",
    "from sklearn.preprocessing import LabelEncoder\n",
    "from sklearn.preprocessing import OneHotEncoder\n",
    "from sklearn.metrics import confusion_matrix\n",
    "from sklearn.preprocessing import StandardScaler\n",
    "from sklearn import feature_extraction\n",
    "from sklearn.decomposition import PCA\n",
    "from sklearn.cluster import KMeans\n",
    "import matplotlib.pyplot as plt\n",
    "import seaborn as sns\n",
    "\n",
    "stopwords = set(stopwords.words('english'))\n",
    "train = pd.read_csv('./data/train.csv')\n",
    "test = pd.read_csv('./data/test.csv')"
   ]
  },
  {
   "cell_type": "code",
   "execution_count": 20,
   "metadata": {},
   "outputs": [],
   "source": [
    "from sklearn.base import TransformerMixin\n",
    "class DenseTransformer(TransformerMixin):\n",
    "\n",
    "    def fit(self, X, y=None, **fit_params):\n",
    "        return self\n",
    "\n",
    "    def transform(self, X, y=None, **fit_params):\n",
    "        return X.todense()"
   ]
  },
  {
   "cell_type": "code",
   "execution_count": 85,
   "metadata": {},
   "outputs": [],
   "source": [
    "class Transform: \n",
    "    def __init__(self,):\n",
    "        # from sklearn.feature_extraction.text import TfidfVectorizer\n",
    "        from nltk.corpus import stopwords\n",
    "        from sklearn.cluster import KMeans\n",
    "        stopwords = set(stopwords.words('english'))\n",
    "\n",
    "        self.tfidf = TfidfVectorizer(\n",
    "            stop_words=stopwords, \n",
    "            ngram_range=(1,1),\n",
    "            lowercase=True,\n",
    "            max_features=1000)\n",
    "        \n",
    "        self.k = KMeans(n_clusters=2, random_state=0)\n",
    "        \n",
    "    def tf(self, df, train):     \n",
    "        \n",
    "        if train == True: \n",
    "            df = pd.DataFrame(self.tfidf.fit_transform(df['text']).todense(), columns=self.tfidf.get_feature_names_out())\n",
    "        else: \n",
    "            df = pd.DataFrame(self.tfidf.transform(df['text']).todense(), columns=self.tfidf.get_feature_names_out())\n",
    "        return df \n",
    "    \n",
    "    # def cluster(self, df):\n",
    "    #     self.k.fit(df)    \n",
    "    #     df['cluster'] = self.k.labels_\n",
    "    #     return df\n",
    "    \n",
    "    # def add_feats(self, df, df2): \n",
    "    #     df['location'] = df2['location']\n",
    "    #     df['keyword'] = df2['keyword']\n",
    "    #     return df \n",
    "    \n",
    "    def execute_pipe(self, df): \n",
    "        P = make_pipeline(\n",
    "                TfidfVectorizer(\n",
    "                            stop_words=stopwords, \n",
    "                            ngram_range=(1,1),\n",
    "                            lowercase=True,\n",
    "                            max_features=1000),\n",
    "                OneHotEncoder(),\n",
    "                DenseTransformer(),\n",
    "                StandardScaler(),\n",
    "                PCA(n_components=1000)\n",
    "                )\n",
    "        df = P.fit_transform(df)\n",
    "        return pd.DataFrame(df)\n",
    "    \n",
    "    def run(self, df, train): \n",
    "        raw_df = df.copy()\n",
    "        # df = self.tf(df, train)\n",
    "        # df = self.cluster(df)\n",
    "        # df = self.add_feats(df, raw_df)\n",
    "        df = self.execute_pipe(df)\n",
    "        return df "
   ]
  },
  {
   "cell_type": "code",
   "execution_count": 76,
   "metadata": {},
   "outputs": [],
   "source": [
    "model_feats={'num_leaves':30,\n",
    "                'max_depth':-1,\n",
    "                'n_estimators':100,\n",
    "                'learning_rate':.14}"
   ]
  },
  {
   "cell_type": "markdown",
   "metadata": {},
   "source": [
    "# Steps\n",
    "1. TFIDF\n",
    "2. Normalization /  PCA\n",
    "3. Cluster\n",
    "4. OHE\n",
    "5. Predict"
   ]
  },
  {
   "cell_type": "code",
   "execution_count": 77,
   "metadata": {},
   "outputs": [
    {
     "name": "stderr",
     "output_type": "stream",
     "text": [
      "C:\\Users\\crysi\\anaconda3\\envs\\ds\\lib\\site-packages\\sklearn\\utils\\validation.py:727: FutureWarning: np.matrix usage is deprecated in 1.0 and will raise a TypeError in 1.2. Please convert to a numpy array with np.asarray. For more information see: https://numpy.org/doc/stable/reference/generated/numpy.matrix.html\n",
      "  warnings.warn(\n",
      "C:\\Users\\crysi\\anaconda3\\envs\\ds\\lib\\site-packages\\sklearn\\utils\\validation.py:727: FutureWarning: np.matrix usage is deprecated in 1.0 and will raise a TypeError in 1.2. Please convert to a numpy array with np.asarray. For more information see: https://numpy.org/doc/stable/reference/generated/numpy.matrix.html\n",
      "  warnings.warn(\n"
     ]
    }
   ],
   "source": [
    "t = Transform()\n",
    "X = t.run(train,train=True)"
   ]
  },
  {
   "cell_type": "markdown",
   "metadata": {},
   "source": [
    "# Split"
   ]
  },
  {
   "cell_type": "code",
   "execution_count": 78,
   "metadata": {},
   "outputs": [],
   "source": [
    "X_train,X_test,y_train,y_test = train_test_split(\n",
    "                                        X, # df \n",
    "                                        train['target'],\n",
    "                                        stratify=train['target'], \n",
    "                                        random_state=0, \n",
    "                                        test_size=.2,\n",
    "                                        )"
   ]
  },
  {
   "cell_type": "code",
   "execution_count": 79,
   "metadata": {
    "tags": []
   },
   "outputs": [],
   "source": [
    "def metrics(m): \n",
    "    # AUC\n",
    "    vis = yellowbrick.ROCAUC(m, classes=[0,1])\n",
    "    vis.fit(X_train,y_train)\n",
    "    vis.score(X_test,y_test)\n",
    "    vis.show()\n",
    "\n",
    "    # F1 Score\n",
    "    scores = cross_val_score(m, X_train, y_train, cv=3, scoring='f1')\n",
    "    print(scores.mean())"
   ]
  },
  {
   "cell_type": "code",
   "execution_count": 80,
   "metadata": {},
   "outputs": [
    {
     "data": {
      "image/png": "[encoded data removed]",
      "text/plain": [
       "<Figure size 432x288 with 1 Axes>"
      ]
     },
     "metadata": {
      "needs_background": "light"
     },
     "output_type": "display_data"
    },
    {
     "name": "stdout",
     "output_type": "stream",
     "text": [
      "0.68774295007602\n"
     ]
    }
   ],
   "source": [
    "m = lightgbm.LGBMClassifier(\n",
    "        **model_feats\n",
    ")\n",
    "m.fit(X_train, y_train)\n",
    "metrics(m)"
   ]
  },
  {
   "cell_type": "markdown",
   "metadata": {},
   "source": [
    "# Write Out"
   ]
  },
  {
   "cell_type": "code",
   "execution_count": 81,
   "metadata": {},
   "outputs": [
    {
     "name": "stderr",
     "output_type": "stream",
     "text": [
      "C:\\Users\\crysi\\anaconda3\\envs\\ds\\lib\\site-packages\\sklearn\\utils\\validation.py:727: FutureWarning: np.matrix usage is deprecated in 1.0 and will raise a TypeError in 1.2. Please convert to a numpy array with np.asarray. For more information see: https://numpy.org/doc/stable/reference/generated/numpy.matrix.html\n",
      "  warnings.warn(\n",
      "C:\\Users\\crysi\\anaconda3\\envs\\ds\\lib\\site-packages\\sklearn\\utils\\validation.py:727: FutureWarning: np.matrix usage is deprecated in 1.0 and will raise a TypeError in 1.2. Please convert to a numpy array with np.asarray. For more information see: https://numpy.org/doc/stable/reference/generated/numpy.matrix.html\n",
      "  warnings.warn(\n"
     ]
    }
   ],
   "source": [
    "m = lightgbm.LGBMClassifier(\n",
    "        **model_feats\n",
    "    )\n",
    "m.fit(X, train['target'])\n",
    "\n",
    "X_val = t.run(test, train=False)\n",
    "preds = m.predict(X_val)\n",
    "test['target'] = preds\n",
    "# test.set_index('id')['target'].to_csv('tt.csv')"
   ]
  },
  {
   "cell_type": "code",
   "execution_count": 82,
   "metadata": {},
   "outputs": [],
   "source": [
    "# best = pd.read_csv('best.csv')"
   ]
  },
  {
   "cell_type": "code",
   "execution_count": 83,
   "metadata": {},
   "outputs": [],
   "source": [
    "best['pred'] = preds\n",
    "(best['target'] == best['pred']).valaue_counts()"
   ]
  },
  {
   "cell_type": "code",
   "execution_count": 84,
   "metadata": {},
   "outputs": [
    {
     "data": {
      "text/plain": [
       "True     2123\n",
       "False    1140\n",
       "dtype: int64"
      ]
     },
     "execution_count": 84,
     "metadata": {},
     "output_type": "execute_result"
    }
   ],
   "source": []
  },
  {
   "cell_type": "code",
   "execution_count": null,
   "metadata": {},
   "outputs": [],
   "source": []
  }
 ],
 "metadata": {
  "kernelspec": {
   "display_name": "Python [conda env:ds]",
   "language": "python",
   "name": "conda-env-ds-py"
  },
  "language_info": {
   "codemirror_mode": {
    "name": "ipython",
    "version": 3
   },
   "file_extension": ".py",
   "mimetype": "text/x-python",
   "name": "python",
   "nbconvert_exporter": "python",
   "pygments_lexer": "ipython3",
   "version": "3.10.4"
  },
  "vscode": {
   "interpreter": {
    "hash": "99a4739aa0d5a5520dae0d5d6292877d9da961fe79cdd14a5e00f38367c76e63"
   }
  }
 },
 "nbformat": 4,
 "nbformat_minor": 4
}
