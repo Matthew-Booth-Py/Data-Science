{
 "cells": [
  {
   "cell_type": "markdown",
   "id": "781b110b-1b3c-4644-996a-0d12cc4d70d6",
   "metadata": {},
   "source": [
    "# Entity Matching"
   ]
  },
  {
   "cell_type": "code",
   "execution_count": 29,
   "id": "e0e94793-7ec4-4ed1-99d1-5dccdcc7dcc1",
   "metadata": {},
   "outputs": [],
   "source": [
    "import pandas as pd \n",
    "import textdistance as td \n",
    "import cleanco"
   ]
  },
  {
   "cell_type": "markdown",
   "id": "c4494a08-fa76-4993-b0d7-1a232cf9791c",
   "metadata": {},
   "source": [
    "# Preprocessing of Text"
   ]
  },
  {
   "cell_type": "code",
   "execution_count": 30,
   "id": "dc7a5950-d9a2-4608-9114-d8a901bb318d",
   "metadata": {},
   "outputs": [
    {
     "data": {
      "text/plain": [
       "'Some Big Pharma'"
      ]
     },
     "execution_count": 30,
     "metadata": {},
     "output_type": "execute_result"
    }
   ],
   "source": [
    "from cleanco import basename\n",
    "business_name = \"Some Big Pharma, LLC\"\n",
    "basename(business_name)\n",
    "'Some Big Pharma'"
   ]
  },
  {
   "cell_type": "code",
   "execution_count": 144,
   "id": "7e805084-e5c3-4ac6-a89e-0073c46c7359",
   "metadata": {},
   "outputs": [
    {
     "data": {
      "text/plain": [
       "3"
      ]
     },
     "execution_count": 144,
     "metadata": {},
     "output_type": "execute_result"
    }
   ],
   "source": [
    "x = 'this is it'\n",
    "len(x.split())"
   ]
  },
  {
   "cell_type": "code",
   "execution_count": 151,
   "id": "25d9be25-9125-4da2-8674-2f7cf45f4559",
   "metadata": {},
   "outputs": [],
   "source": [
    "t = ['this is it','i am good']"
   ]
  },
  {
   "cell_type": "code",
   "execution_count": 153,
   "id": "c19deb49-dd04-44cf-bd23-23a3802cd050",
   "metadata": {},
   "outputs": [
    {
     "data": {
      "text/plain": [
       "[3, 3]"
      ]
     },
     "execution_count": 153,
     "metadata": {},
     "output_type": "execute_result"
    }
   ],
   "source": [
    "[len(x.split()) for x in t]"
   ]
  },
  {
   "cell_type": "code",
   "execution_count": 156,
   "id": "7263b2d1-1c3d-48b7-b970-02941898d941",
   "metadata": {},
   "outputs": [
    {
     "name": "stdout",
     "output_type": "stream",
     "text": [
      "[3]\n"
     ]
    }
   ],
   "source": [
    "text_feats(['this is it'])"
   ]
  },
  {
   "cell_type": "code",
   "execution_count": 202,
   "id": "5a89ae90-f711-41f6-96d8-919114067033",
   "metadata": {},
   "outputs": [],
   "source": [
    "import re "
   ]
  },
  {
   "cell_type": "code",
   "execution_count": 205,
   "id": "27141382-f9dd-41b3-aba5-f910fc2f5a51",
   "metadata": {},
   "outputs": [
    {
     "name": "stdout",
     "output_type": "stream",
     "text": [
      "apple inc\n"
     ]
    }
   ],
   "source": [
    "new_string = re.sub(r'[^\\w\\s]', '', a_string)\n",
    "\n",
    "print(new_string)"
   ]
  },
  {
   "cell_type": "code",
   "execution_count": 208,
   "id": "0e1613e3-8821-4d84-a518-aeae244b74ff",
   "metadata": {},
   "outputs": [
    {
     "data": {
      "text/plain": [
       "['tet', 'test', 'adf ']"
      ]
     },
     "execution_count": 208,
     "metadata": {},
     "output_type": "execute_result"
    }
   ],
   "source": [
    "[re.sub(r'[^\\w\\s]', '', x) for x in ['tet','test', 'adf '] ]"
   ]
  },
  {
   "cell_type": "code",
   "execution_count": 296,
   "id": "7b50bea0-9b8e-4d3e-a21e-6676199b54e5",
   "metadata": {},
   "outputs": [],
   "source": [
    "def lowerd_and_cleaned(l): \n",
    "    lowered = [x.lower() for x in l]\n",
    "    cleaned = [re.sub(r'[^\\w\\s]', '', x) for x in lowered]\n",
    "    return cleaned\n",
    "\n",
    "def text_feats(l):\n",
    "    lens = [len(x) for x in l]\n",
    "    word_len = [len(x.split()) for x in l]\n",
    "    \n",
    "    len_diff = abs(lens[0] - lens[1])\n",
    "    words_diff = abs(word_len[0] - word_len[1])\n",
    "    return len_diff, words_diff\n",
    "    \n",
    "def base_name(l): \n",
    "    return [cleanco.basename(x) for x in l]\n",
    "\n",
    "def ultra_base(l): \n",
    "    return [cleanco.basename(cleanco.basename(x)) for x in l]\n",
    "    \n",
    "def is_exact(x,y): \n",
    "    return x==y\n",
    "\n",
    "def distance(l): \n",
    "    jaro = td.jaro_winkler(l[0], l[1])\n",
    "    jaccard = td.jaccard(l[0], l[1])\n",
    "    return jaro, jaccard\n",
    "\n",
    "def fit(x,y): \n",
    "    \n",
    "    lower = lowerd_and_cleaned([x,y])\n",
    "    base = base_name(lower)\n",
    "    u_base = ultra_base(lower)\n",
    "    \n",
    "    \n",
    "    \n",
    "    jaro, jaccard = distance(lower)\n",
    "    jaro_base, jaccard_base = distance(base)\n",
    "    jaro_u_base, jaccard_u_base = distance(u_base)\n",
    "    \n",
    "    exact = is_exact(lower[0],lower[1])\n",
    "    base_exact = is_exact(base[0], base[1])\n",
    "    len_diff, word_diff = text_feats(lower)\n",
    "    # print(x, y)\n",
    "    # print('\\n\\n')\n",
    "    # print(lower)\n",
    "    return pd.DataFrame(\n",
    "    {\n",
    "        'Jaro':jaro, \n",
    "        'Jaccard':jaccard,\n",
    "        'Jaro Base':jaro_base,\n",
    "        'Jaccard Base':jaccard_base,\n",
    "        'Jaro U Base':jaro_u_base,\n",
    "        'Jaccard U Base':jaccard_u_base,\n",
    "        'Exact':int(exact),\n",
    "        'Base Exact':int(base_exact),\n",
    "        'Diff Str Len':len_diff,\n",
    "        'Diff Word Len':word_diff\n",
    "    }, index = range(1))"
   ]
  },
  {
   "cell_type": "code",
   "execution_count": 297,
   "id": "814bb35e-8a18-4da4-86e6-4c09742e3027",
   "metadata": {},
   "outputs": [
    {
     "name": "stdout",
     "output_type": "stream",
     "text": [
      "0.4583333333333333\n",
      "0.5\n"
     ]
    }
   ],
   "source": [
    "print(f'{td.jaro_winkler(\"matt\", \"johnmatt\")}')\n",
    "print(f'{td.jaccard(\"matt\",\"johnmatt\")}')"
   ]
  },
  {
   "cell_type": "code",
   "execution_count": 298,
   "id": "9bd8c464-7b6c-450f-be2a-5b595126307c",
   "metadata": {},
   "outputs": [
    {
     "data": {
      "text/html": [
       "<div>\n",
       "<style scoped>\n",
       "    .dataframe tbody tr th:only-of-type {\n",
       "        vertical-align: middle;\n",
       "    }\n",
       "\n",
       "    .dataframe tbody tr th {\n",
       "        vertical-align: top;\n",
       "    }\n",
       "\n",
       "    .dataframe thead th {\n",
       "        text-align: right;\n",
       "    }\n",
       "</style>\n",
       "<table border=\"1\" class=\"dataframe\">\n",
       "  <thead>\n",
       "    <tr style=\"text-align: right;\">\n",
       "      <th></th>\n",
       "      <th>Jaro</th>\n",
       "      <th>Jaccard</th>\n",
       "      <th>Jaro Base</th>\n",
       "      <th>Jaccard Base</th>\n",
       "      <th>Jaro U Base</th>\n",
       "      <th>Jaccard U Base</th>\n",
       "      <th>Exact</th>\n",
       "      <th>Base Exact</th>\n",
       "      <th>Diff Str Len</th>\n",
       "      <th>Diff Word Len</th>\n",
       "    </tr>\n",
       "  </thead>\n",
       "  <tbody>\n",
       "    <tr>\n",
       "      <th>0</th>\n",
       "      <td>0.895556</td>\n",
       "      <td>0.583333</td>\n",
       "      <td>1</td>\n",
       "      <td>1</td>\n",
       "      <td>1</td>\n",
       "      <td>1</td>\n",
       "      <td>0</td>\n",
       "      <td>1</td>\n",
       "      <td>1</td>\n",
       "      <td>0</td>\n",
       "    </tr>\n",
       "  </tbody>\n",
       "</table>\n",
       "</div>"
      ],
      "text/plain": [
       "       Jaro   Jaccard  Jaro Base  Jaccard Base  Jaro U Base  Jaccard U Base  \\\n",
       "0  0.895556  0.583333          1             1            1               1   \n",
       "\n",
       "   Exact  Base Exact  Diff Str Len  Diff Word Len  \n",
       "0      0           1             1              0  "
      ]
     },
     "execution_count": 298,
     "metadata": {},
     "output_type": "execute_result"
    }
   ],
   "source": [
    "fit('Apple, corp', 'apple, inc')"
   ]
  },
  {
   "cell_type": "markdown",
   "id": "ed979e44-a648-4959-bc91-e99f73dbea70",
   "metadata": {},
   "source": [
    "# Test data"
   ]
  },
  {
   "cell_type": "code",
   "execution_count": 299,
   "id": "f9b1c03f-78ea-4034-aad7-3997ee96c388",
   "metadata": {},
   "outputs": [],
   "source": [
    "df = pd.read_csv('room_type.csv')"
   ]
  },
  {
   "cell_type": "code",
   "execution_count": 301,
   "id": "bcb4d9c8-c5fb-4160-9f6c-4b5ba3f376b6",
   "metadata": {},
   "outputs": [],
   "source": [
    "from tqdm import tqdm"
   ]
  },
  {
   "cell_type": "code",
   "execution_count": 302,
   "id": "096e04c7-469c-4c25-88b4-683a79c59165",
   "metadata": {},
   "outputs": [
    {
     "name": "stderr",
     "output_type": "stream",
     "text": [
      "100%|███████████████████████████████████████| 103/103 [00:00<00:00, 1171.68it/s]\n"
     ]
    }
   ],
   "source": [
    "x = pd.DataFrame()\n",
    "for i in tqdm(range(len(df))): \n",
    "    d = fit(df['Expedia'][i], df['Booking.com'][i])\n",
    "    x = pd.concat([x, d])"
   ]
  },
  {
   "cell_type": "code",
   "execution_count": 303,
   "id": "e89ac672-861f-457b-b213-a3507d0c6e3b",
   "metadata": {},
   "outputs": [
    {
     "data": {
      "text/html": [
       "<div>\n",
       "<style scoped>\n",
       "    .dataframe tbody tr th:only-of-type {\n",
       "        vertical-align: middle;\n",
       "    }\n",
       "\n",
       "    .dataframe tbody tr th {\n",
       "        vertical-align: top;\n",
       "    }\n",
       "\n",
       "    .dataframe thead th {\n",
       "        text-align: right;\n",
       "    }\n",
       "</style>\n",
       "<table border=\"1\" class=\"dataframe\">\n",
       "  <thead>\n",
       "    <tr style=\"text-align: right;\">\n",
       "      <th></th>\n",
       "      <th>Jaro</th>\n",
       "      <th>Jaccard</th>\n",
       "      <th>Jaro Base</th>\n",
       "      <th>Jaccard Base</th>\n",
       "      <th>Jaro U Base</th>\n",
       "      <th>Jaccard U Base</th>\n",
       "      <th>Exact</th>\n",
       "      <th>Base Exact</th>\n",
       "      <th>Diff Str Len</th>\n",
       "      <th>Diff Word Len</th>\n",
       "    </tr>\n",
       "  </thead>\n",
       "  <tbody>\n",
       "    <tr>\n",
       "      <th>0</th>\n",
       "      <td>0.895455</td>\n",
       "      <td>0.727273</td>\n",
       "      <td>0.895455</td>\n",
       "      <td>0.727273</td>\n",
       "      <td>0.895455</td>\n",
       "      <td>0.727273</td>\n",
       "      <td>0</td>\n",
       "      <td>0</td>\n",
       "      <td>6</td>\n",
       "      <td>2</td>\n",
       "    </tr>\n",
       "    <tr>\n",
       "      <th>0</th>\n",
       "      <td>0.869323</td>\n",
       "      <td>0.697674</td>\n",
       "      <td>0.869323</td>\n",
       "      <td>0.697674</td>\n",
       "      <td>0.869323</td>\n",
       "      <td>0.697674</td>\n",
       "      <td>0</td>\n",
       "      <td>0</td>\n",
       "      <td>3</td>\n",
       "      <td>1</td>\n",
       "    </tr>\n",
       "    <tr>\n",
       "      <th>0</th>\n",
       "      <td>0.933333</td>\n",
       "      <td>0.666667</td>\n",
       "      <td>0.933333</td>\n",
       "      <td>0.666667</td>\n",
       "      <td>0.933333</td>\n",
       "      <td>0.666667</td>\n",
       "      <td>0</td>\n",
       "      <td>0</td>\n",
       "      <td>11</td>\n",
       "      <td>3</td>\n",
       "    </tr>\n",
       "    <tr>\n",
       "      <th>0</th>\n",
       "      <td>0.492091</td>\n",
       "      <td>0.739130</td>\n",
       "      <td>0.492091</td>\n",
       "      <td>0.739130</td>\n",
       "      <td>0.492091</td>\n",
       "      <td>0.739130</td>\n",
       "      <td>0</td>\n",
       "      <td>0</td>\n",
       "      <td>6</td>\n",
       "      <td>2</td>\n",
       "    </tr>\n",
       "    <tr>\n",
       "      <th>0</th>\n",
       "      <td>0.934007</td>\n",
       "      <td>0.818182</td>\n",
       "      <td>0.934007</td>\n",
       "      <td>0.818182</td>\n",
       "      <td>0.934007</td>\n",
       "      <td>0.818182</td>\n",
       "      <td>0</td>\n",
       "      <td>0</td>\n",
       "      <td>6</td>\n",
       "      <td>2</td>\n",
       "    </tr>\n",
       "    <tr>\n",
       "      <th>...</th>\n",
       "      <td>...</td>\n",
       "      <td>...</td>\n",
       "      <td>...</td>\n",
       "      <td>...</td>\n",
       "      <td>...</td>\n",
       "      <td>...</td>\n",
       "      <td>...</td>\n",
       "      <td>...</td>\n",
       "      <td>...</td>\n",
       "      <td>...</td>\n",
       "    </tr>\n",
       "    <tr>\n",
       "      <th>0</th>\n",
       "      <td>0.740019</td>\n",
       "      <td>0.777778</td>\n",
       "      <td>0.752698</td>\n",
       "      <td>0.790323</td>\n",
       "      <td>0.752698</td>\n",
       "      <td>0.790323</td>\n",
       "      <td>0</td>\n",
       "      <td>0</td>\n",
       "      <td>10</td>\n",
       "      <td>1</td>\n",
       "    </tr>\n",
       "    <tr>\n",
       "      <th>0</th>\n",
       "      <td>0.747646</td>\n",
       "      <td>0.696970</td>\n",
       "      <td>0.757025</td>\n",
       "      <td>0.730159</td>\n",
       "      <td>0.757025</td>\n",
       "      <td>0.730159</td>\n",
       "      <td>0</td>\n",
       "      <td>0</td>\n",
       "      <td>18</td>\n",
       "      <td>2</td>\n",
       "    </tr>\n",
       "    <tr>\n",
       "      <th>0</th>\n",
       "      <td>0.627901</td>\n",
       "      <td>0.736842</td>\n",
       "      <td>0.627901</td>\n",
       "      <td>0.736842</td>\n",
       "      <td>0.627901</td>\n",
       "      <td>0.736842</td>\n",
       "      <td>0</td>\n",
       "      <td>0</td>\n",
       "      <td>4</td>\n",
       "      <td>0</td>\n",
       "    </tr>\n",
       "    <tr>\n",
       "      <th>0</th>\n",
       "      <td>0.733872</td>\n",
       "      <td>0.738095</td>\n",
       "      <td>0.733872</td>\n",
       "      <td>0.738095</td>\n",
       "      <td>0.733872</td>\n",
       "      <td>0.738095</td>\n",
       "      <td>0</td>\n",
       "      <td>0</td>\n",
       "      <td>5</td>\n",
       "      <td>1</td>\n",
       "    </tr>\n",
       "    <tr>\n",
       "      <th>0</th>\n",
       "      <td>0.905702</td>\n",
       "      <td>0.791667</td>\n",
       "      <td>0.900113</td>\n",
       "      <td>0.770833</td>\n",
       "      <td>0.900113</td>\n",
       "      <td>0.770833</td>\n",
       "      <td>0</td>\n",
       "      <td>0</td>\n",
       "      <td>10</td>\n",
       "      <td>3</td>\n",
       "    </tr>\n",
       "  </tbody>\n",
       "</table>\n",
       "<p>103 rows × 10 columns</p>\n",
       "</div>"
      ],
      "text/plain": [
       "        Jaro   Jaccard  Jaro Base  Jaccard Base  Jaro U Base  Jaccard U Base  \\\n",
       "0   0.895455  0.727273   0.895455      0.727273     0.895455        0.727273   \n",
       "0   0.869323  0.697674   0.869323      0.697674     0.869323        0.697674   \n",
       "0   0.933333  0.666667   0.933333      0.666667     0.933333        0.666667   \n",
       "0   0.492091  0.739130   0.492091      0.739130     0.492091        0.739130   \n",
       "0   0.934007  0.818182   0.934007      0.818182     0.934007        0.818182   \n",
       "..       ...       ...        ...           ...          ...             ...   \n",
       "0   0.740019  0.777778   0.752698      0.790323     0.752698        0.790323   \n",
       "0   0.747646  0.696970   0.757025      0.730159     0.757025        0.730159   \n",
       "0   0.627901  0.736842   0.627901      0.736842     0.627901        0.736842   \n",
       "0   0.733872  0.738095   0.733872      0.738095     0.733872        0.738095   \n",
       "0   0.905702  0.791667   0.900113      0.770833     0.900113        0.770833   \n",
       "\n",
       "    Exact  Base Exact  Diff Str Len  Diff Word Len  \n",
       "0       0           0             6              2  \n",
       "0       0           0             3              1  \n",
       "0       0           0            11              3  \n",
       "0       0           0             6              2  \n",
       "0       0           0             6              2  \n",
       "..    ...         ...           ...            ...  \n",
       "0       0           0            10              1  \n",
       "0       0           0            18              2  \n",
       "0       0           0             4              0  \n",
       "0       0           0             5              1  \n",
       "0       0           0            10              3  \n",
       "\n",
       "[103 rows x 10 columns]"
      ]
     },
     "execution_count": 303,
     "metadata": {},
     "output_type": "execute_result"
    }
   ],
   "source": [
    "x"
   ]
  },
  {
   "cell_type": "code",
   "execution_count": 304,
   "id": "9363adce-3bb9-41f8-a25f-ec1b56b38f3e",
   "metadata": {},
   "outputs": [
    {
     "data": {
      "text/html": [
       "<div>\n",
       "<style scoped>\n",
       "    .dataframe tbody tr th:only-of-type {\n",
       "        vertical-align: middle;\n",
       "    }\n",
       "\n",
       "    .dataframe tbody tr th {\n",
       "        vertical-align: top;\n",
       "    }\n",
       "\n",
       "    .dataframe thead th {\n",
       "        text-align: right;\n",
       "    }\n",
       "</style>\n",
       "<table border=\"1\" class=\"dataframe\">\n",
       "  <thead>\n",
       "    <tr style=\"text-align: right;\">\n",
       "      <th></th>\n",
       "      <th>Expedia</th>\n",
       "      <th>Booking.com</th>\n",
       "    </tr>\n",
       "  </thead>\n",
       "  <tbody>\n",
       "    <tr>\n",
       "      <th>0</th>\n",
       "      <td>Deluxe Room, 1 King Bed</td>\n",
       "      <td>Deluxe King Room</td>\n",
       "    </tr>\n",
       "    <tr>\n",
       "      <th>1</th>\n",
       "      <td>Standard Room, 1 King Bed, Accessible</td>\n",
       "      <td>Standard King Roll-in Shower Accessible</td>\n",
       "    </tr>\n",
       "    <tr>\n",
       "      <th>2</th>\n",
       "      <td>Grand Corner King Room, 1 King Bed</td>\n",
       "      <td>Grand Corner King Room</td>\n",
       "    </tr>\n",
       "    <tr>\n",
       "      <th>3</th>\n",
       "      <td>Suite, 1 King Bed (Parlor)</td>\n",
       "      <td>King Parlor Suite</td>\n",
       "    </tr>\n",
       "    <tr>\n",
       "      <th>4</th>\n",
       "      <td>High-Floor Premium Room, 1 King Bed</td>\n",
       "      <td>High-Floor Premium King Room</td>\n",
       "    </tr>\n",
       "    <tr>\n",
       "      <th>...</th>\n",
       "      <td>...</td>\n",
       "      <td>...</td>\n",
       "    </tr>\n",
       "    <tr>\n",
       "      <th>98</th>\n",
       "      <td>Room, 1 King Bed, Accessible, Resort View (Ali...</td>\n",
       "      <td>Alii Tower Resort View With King Bed - Mobilit...</td>\n",
       "    </tr>\n",
       "    <tr>\n",
       "      <th>99</th>\n",
       "      <td>Room, 1 King Bed, Accessible, View (Rainbow, B...</td>\n",
       "      <td>Rainbow Tower Ocean View With King Bed - Mobil...</td>\n",
       "    </tr>\n",
       "    <tr>\n",
       "      <th>100</th>\n",
       "      <td>Room, 1 King Bed, Ocean View (Alii)</td>\n",
       "      <td>Alii Tower Ocean View With King Bed</td>\n",
       "    </tr>\n",
       "    <tr>\n",
       "      <th>101</th>\n",
       "      <td>Room, 1 King Bed, Oceanfront (Rainbow)</td>\n",
       "      <td>Rainbow Tower Ocean Front with King Bed</td>\n",
       "    </tr>\n",
       "    <tr>\n",
       "      <th>102</th>\n",
       "      <td>Junior Suite, 1 King Bed, Accessible (Roll-in ...</td>\n",
       "      <td>Junior Suite - Accessible Roll-in Shower</td>\n",
       "    </tr>\n",
       "  </tbody>\n",
       "</table>\n",
       "<p>103 rows × 2 columns</p>\n",
       "</div>"
      ],
      "text/plain": [
       "                                               Expedia  \\\n",
       "0                              Deluxe Room, 1 King Bed   \n",
       "1                Standard Room, 1 King Bed, Accessible   \n",
       "2                   Grand Corner King Room, 1 King Bed   \n",
       "3                           Suite, 1 King Bed (Parlor)   \n",
       "4                  High-Floor Premium Room, 1 King Bed   \n",
       "..                                                 ...   \n",
       "98   Room, 1 King Bed, Accessible, Resort View (Ali...   \n",
       "99   Room, 1 King Bed, Accessible, View (Rainbow, B...   \n",
       "100                Room, 1 King Bed, Ocean View (Alii)   \n",
       "101             Room, 1 King Bed, Oceanfront (Rainbow)   \n",
       "102  Junior Suite, 1 King Bed, Accessible (Roll-in ...   \n",
       "\n",
       "                                           Booking.com  \n",
       "0                                     Deluxe King Room  \n",
       "1              Standard King Roll-in Shower Accessible  \n",
       "2                               Grand Corner King Room  \n",
       "3                                    King Parlor Suite  \n",
       "4                         High-Floor Premium King Room  \n",
       "..                                                 ...  \n",
       "98   Alii Tower Resort View With King Bed - Mobilit...  \n",
       "99   Rainbow Tower Ocean View With King Bed - Mobil...  \n",
       "100                Alii Tower Ocean View With King Bed  \n",
       "101            Rainbow Tower Ocean Front with King Bed  \n",
       "102           Junior Suite - Accessible Roll-in Shower  \n",
       "\n",
       "[103 rows x 2 columns]"
      ]
     },
     "execution_count": 304,
     "metadata": {},
     "output_type": "execute_result"
    }
   ],
   "source": [
    "df"
   ]
  },
  {
   "cell_type": "code",
   "execution_count": null,
   "id": "def18aea-5364-4b82-8e4c-04ee373f5eba",
   "metadata": {},
   "outputs": [],
   "source": []
  }
 ],
 "metadata": {
  "kernelspec": {
   "display_name": "Python [conda env:ml]",
   "language": "python",
   "name": "conda-env-ml-py"
  },
  "language_info": {
   "codemirror_mode": {
    "name": "ipython",
    "version": 3
   },
   "file_extension": ".py",
   "mimetype": "text/x-python",
   "name": "python",
   "nbconvert_exporter": "python",
   "pygments_lexer": "ipython3",
   "version": "3.10.6"
  }
 },
 "nbformat": 4,
 "nbformat_minor": 5
}
