{
 "cells": [
  {
   "cell_type": "markdown",
   "id": "781b110b-1b3c-4644-996a-0d12cc4d70d6",
   "metadata": {},
   "source": [
    "# Entity Matching"
   ]
  },
  {
   "cell_type": "code",
   "execution_count": 29,
   "id": "e0e94793-7ec4-4ed1-99d1-5dccdcc7dcc1",
   "metadata": {},
   "outputs": [],
   "source": [
    "import pandas as pd \n",
    "import textdistance as td \n",
    "import cleanco"
   ]
  },
  {
   "cell_type": "markdown",
   "id": "c4494a08-fa76-4993-b0d7-1a232cf9791c",
   "metadata": {},
   "source": [
    "# Preprocessing of Text"
   ]
  },
  {
   "cell_type": "code",
   "execution_count": 30,
   "id": "dc7a5950-d9a2-4608-9114-d8a901bb318d",
   "metadata": {},
   "outputs": [
    {
     "data": {
      "text/plain": [
       "'Some Big Pharma'"
      ]
     },
     "execution_count": 30,
     "metadata": {},
     "output_type": "execute_result"
    }
   ],
   "source": [
    "from cleanco import basename\n",
    "business_name = \"Some Big Pharma, LLC\"\n",
    "basename(business_name)\n",
    "'Some Big Pharma'"
   ]
  },
  {
   "cell_type": "code",
   "execution_count": 144,
   "id": "7e805084-e5c3-4ac6-a89e-0073c46c7359",
   "metadata": {},
   "outputs": [
    {
     "data": {
      "text/plain": [
       "3"
      ]
     },
     "execution_count": 144,
     "metadata": {},
     "output_type": "execute_result"
    }
   ],
   "source": [
    "x = 'this is it'\n",
    "len(x.split())"
   ]
  },
  {
   "cell_type": "code",
   "execution_count": 151,
   "id": "25d9be25-9125-4da2-8674-2f7cf45f4559",
   "metadata": {},
   "outputs": [],
   "source": [
    "t = ['this is it','i am good']"
   ]
  },
  {
   "cell_type": "code",
   "execution_count": 153,
   "id": "c19deb49-dd04-44cf-bd23-23a3802cd050",
   "metadata": {},
   "outputs": [
    {
     "data": {
      "text/plain": [
       "[3, 3]"
      ]
     },
     "execution_count": 153,
     "metadata": {},
     "output_type": "execute_result"
    }
   ],
   "source": [
    "[len(x.split()) for x in t]"
   ]
  },
  {
   "cell_type": "code",
   "execution_count": 156,
   "id": "7263b2d1-1c3d-48b7-b970-02941898d941",
   "metadata": {},
   "outputs": [
    {
     "name": "stdout",
     "output_type": "stream",
     "text": [
      "[3]\n"
     ]
    }
   ],
   "source": [
    "text_feats(['this is it'])"
   ]
  },
  {
   "cell_type": "code",
   "execution_count": 167,
   "id": "7b50bea0-9b8e-4d3e-a21e-6676199b54e5",
   "metadata": {},
   "outputs": [],
   "source": [
    "def lowerd(l): \n",
    "    return [x.lower() for x in l]\n",
    "\n",
    "def text_feats(l):\n",
    "    lens = [len(x) for x in l]\n",
    "    word_len = [len(x.split()) for x in l]\n",
    "    \n",
    "    len_diff = abs(lens[0] - lens[1])\n",
    "    \n",
    "    return lens, word_len\n",
    "    \n",
    "def base_name(l): \n",
    "    return [cleanco.basename(x) for x in l]\n",
    "\n",
    "def ultra_base(l): \n",
    "    return [cleanco.basename(cleanco.basename(x)) for x in l]\n",
    "    \n",
    "def is_exact(x,y): \n",
    "    return x==y\n",
    "\n",
    "def distance(l): \n",
    "    jaro = td.jaro_winkler(l[0], l[1])\n",
    "    jaccard = td.jaccard(l[0], l[1])\n",
    "    return jaro, jaccard\n",
    "\n",
    "def fit(x,y): \n",
    "    \n",
    "    lower = lowerd([x,y])\n",
    "    base = base_name(lower)\n",
    "    u_base = ultra_base(lower)\n",
    "    exact = is_exact(lower[0],lower[1])\n",
    "    \n",
    "    jaro, jaccard = distance(lower)\n",
    "    jaro_base, jaccard_base = distance(base)\n",
    "    jaro_u_base, jaccard_u_base = distance(u_base)\n",
    "    \n",
    "    str_len, word_len = text_feats(lower)\n",
    "    print(str_len)\n",
    "    \n",
    "    return pd.DataFrame(\n",
    "    {\n",
    "        'Jaro':jaro, \n",
    "        'Jaccard':jaccard,\n",
    "        'Jaro Base':jaro_base,\n",
    "        'Jaccard Base':jaccard_base,\n",
    "        'Jaro U Base':jaro_u_base,\n",
    "        'Jaccard U Base':jaccard_u_base,\n",
    "        'Exact':int(exact),\n",
    "        'Str Length':str_len,\n",
    "        'Word Length':word_len\n",
    "    }, index = range(2))"
   ]
  },
  {
   "cell_type": "code",
   "execution_count": 168,
   "id": "0ee04bfe-a9cf-404c-a4e0-6ed176138729",
   "metadata": {},
   "outputs": [
    {
     "ename": "NameError",
     "evalue": "name 'word_len' is not defined",
     "output_type": "error",
     "traceback": [
      "\u001b[0;31m---------------------------------------------------------------------------\u001b[0m",
      "\u001b[0;31mNameError\u001b[0m                                 Traceback (most recent call last)",
      "Cell \u001b[0;32mIn [168], line 1\u001b[0m\n\u001b[0;32m----> 1\u001b[0m \u001b[43mword_len\u001b[49m\n",
      "\u001b[0;31mNameError\u001b[0m: name 'word_len' is not defined"
     ]
    }
   ],
   "source": [
    "word_len"
   ]
  },
  {
   "cell_type": "code",
   "execution_count": 169,
   "id": "814bb35e-8a18-4da4-86e6-4c09742e3027",
   "metadata": {},
   "outputs": [
    {
     "name": "stdout",
     "output_type": "stream",
     "text": [
      "0.4583333333333333\n",
      "0.5\n"
     ]
    }
   ],
   "source": [
    "print(f'{td.jaro_winkler(\"matt\", \"johnmatt\")}')\n",
    "print(f'{td.jaccard(\"matt\",\"johnmatt\")}')"
   ]
  },
  {
   "cell_type": "code",
   "execution_count": 170,
   "id": "f7bb11b3-2cb2-4d01-ab01-dfbc16780642",
   "metadata": {},
   "outputs": [
    {
     "name": "stdout",
     "output_type": "stream",
     "text": [
      "[14, 20]\n"
     ]
    },
    {
     "data": {
      "text/html": [
       "<div>\n",
       "<style scoped>\n",
       "    .dataframe tbody tr th:only-of-type {\n",
       "        vertical-align: middle;\n",
       "    }\n",
       "\n",
       "    .dataframe tbody tr th {\n",
       "        vertical-align: top;\n",
       "    }\n",
       "\n",
       "    .dataframe thead th {\n",
       "        text-align: right;\n",
       "    }\n",
       "</style>\n",
       "<table border=\"1\" class=\"dataframe\">\n",
       "  <thead>\n",
       "    <tr style=\"text-align: right;\">\n",
       "      <th></th>\n",
       "      <th>Jaro</th>\n",
       "      <th>Jaccard</th>\n",
       "      <th>Jaro Base</th>\n",
       "      <th>Jaccard Base</th>\n",
       "      <th>Jaro U Base</th>\n",
       "      <th>Jaccard U Base</th>\n",
       "      <th>Exact</th>\n",
       "      <th>Str Length</th>\n",
       "      <th>Word Length</th>\n",
       "    </tr>\n",
       "  </thead>\n",
       "  <tbody>\n",
       "    <tr>\n",
       "      <th>0</th>\n",
       "      <td>0.884945</td>\n",
       "      <td>0.619048</td>\n",
       "      <td>0.852778</td>\n",
       "      <td>0.470588</td>\n",
       "      <td>0.852778</td>\n",
       "      <td>0.470588</td>\n",
       "      <td>0</td>\n",
       "      <td>14</td>\n",
       "      <td>2</td>\n",
       "    </tr>\n",
       "    <tr>\n",
       "      <th>1</th>\n",
       "      <td>0.884945</td>\n",
       "      <td>0.619048</td>\n",
       "      <td>0.852778</td>\n",
       "      <td>0.470588</td>\n",
       "      <td>0.852778</td>\n",
       "      <td>0.470588</td>\n",
       "      <td>0</td>\n",
       "      <td>20</td>\n",
       "      <td>3</td>\n",
       "    </tr>\n",
       "  </tbody>\n",
       "</table>\n",
       "</div>"
      ],
      "text/plain": [
       "       Jaro   Jaccard  Jaro Base  Jaccard Base  Jaro U Base  Jaccard U Base  \\\n",
       "0  0.884945  0.619048   0.852778      0.470588     0.852778        0.470588   \n",
       "1  0.884945  0.619048   0.852778      0.470588     0.852778        0.470588   \n",
       "\n",
       "   Exact  Str Length  Word Length  \n",
       "0      0          14            2  \n",
       "1      0          20            3  "
      ]
     },
     "execution_count": 170,
     "metadata": {},
     "output_type": "execute_result"
    }
   ],
   "source": [
    "fit('microsoft corp', 'microfoft pooper inc')"
   ]
  },
  {
   "cell_type": "code",
   "execution_count": 135,
   "id": "5b08e439-c29b-4688-8d42-36aebfe5b9f5",
   "metadata": {},
   "outputs": [
    {
     "data": {
      "text/plain": [
       "0.45"
      ]
     },
     "execution_count": 135,
     "metadata": {},
     "output_type": "execute_result"
    }
   ],
   "source": [
    "td.jaccard('microsoft','microsoft inc pooper')"
   ]
  },
  {
   "cell_type": "code",
   "execution_count": null,
   "id": "7aae7193-0a4c-488d-8c19-ad9b2a47d133",
   "metadata": {},
   "outputs": [],
   "source": []
  },
  {
   "cell_type": "code",
   "execution_count": null,
   "id": "096e04c7-469c-4c25-88b4-683a79c59165",
   "metadata": {},
   "outputs": [],
   "source": []
  }
 ],
 "metadata": {
  "kernelspec": {
   "display_name": "Python [conda env:ml]",
   "language": "python",
   "name": "conda-env-ml-py"
  },
  "language_info": {
   "codemirror_mode": {
    "name": "ipython",
    "version": 3
   },
   "file_extension": ".py",
   "mimetype": "text/x-python",
   "name": "python",
   "nbconvert_exporter": "python",
   "pygments_lexer": "ipython3",
   "version": "3.10.6"
  }
 },
 "nbformat": 4,
 "nbformat_minor": 5
}
