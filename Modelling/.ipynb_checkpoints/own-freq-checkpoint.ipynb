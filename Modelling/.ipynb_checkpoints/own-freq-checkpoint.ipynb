{
 "cells": [
  {
   "cell_type": "code",
   "execution_count": 5,
   "id": "c6e3155a-4fd5-4a04-8234-858a1d4b6ed5",
   "metadata": {},
   "outputs": [],
   "source": [
    "import pandas as pd\n",
    "import statsmodels.formula.api as smf\n",
    "import statsmodels.api as sm\n",
    "\n",
    "# read or get file\n",
    "file_name='mccase.txt'\n",
    "url = 'https://staff.math.su.se/esbj/GLMbook/mccase.txt'\n",
    "file = open(file_name,'r')\n",
    "\n",
    "# load file\n",
    "dat = list()\n",
    "for line in file.readlines():\n",
    "    dat.append([line[:2],line[2:3],line[3:4],line[4:5],line[5:7],line[7:8],line[8:16],line[16:20],str(line[20:]).replace('\\n','')])\n",
    "file.close()\n",
    "df = pd.DataFrame(dat,columns=['Age','Sex','Geog','EV','VehAge','NCD','PYrs','Claims','Severity'])\n",
    "df = df.astype({'Age':float,'Sex':'category','Geog':'category','EV':'category',\n",
    "                'VehAge':int,'NCD':'category','PYrs':float,'Claims':int,'Severity':float}).copy()"
   ]
  },
  {
   "cell_type": "code",
   "execution_count": 6,
   "id": "f5557cd0-2e13-4f12-86a0-aeee20c322be",
   "metadata": {},
   "outputs": [
    {
     "ename": "NameError",
     "evalue": "name 'dF' is not defined",
     "output_type": "error",
     "traceback": [
      "\u001b[0;31m---------------------------------------------------------------------------\u001b[0m",
      "\u001b[0;31mNameError\u001b[0m                                 Traceback (most recent call last)",
      "Input \u001b[0;32mIn [6]\u001b[0m, in \u001b[0;36m<cell line: 1>\u001b[0;34m()\u001b[0m\n\u001b[0;32m----> 1\u001b[0m \u001b[43mdF\u001b[49m\n",
      "\u001b[0;31mNameError\u001b[0m: name 'dF' is not defined"
     ]
    }
   ],
   "source": [
    "dF"
   ]
  },
  {
   "cell_type": "code",
   "execution_count": null,
   "id": "7443b2df-c859-4091-8bc6-d7b4aa1f73b5",
   "metadata": {},
   "outputs": [],
   "source": []
  }
 ],
 "metadata": {
  "kernelspec": {
   "display_name": "Python [conda env:DS]",
   "language": "python",
   "name": "conda-env-DS-py"
  },
  "language_info": {
   "codemirror_mode": {
    "name": "ipython",
    "version": 3
   },
   "file_extension": ".py",
   "mimetype": "text/x-python",
   "name": "python",
   "nbconvert_exporter": "python",
   "pygments_lexer": "ipython3",
   "version": "3.10.5"
  }
 },
 "nbformat": 4,
 "nbformat_minor": 5
}
