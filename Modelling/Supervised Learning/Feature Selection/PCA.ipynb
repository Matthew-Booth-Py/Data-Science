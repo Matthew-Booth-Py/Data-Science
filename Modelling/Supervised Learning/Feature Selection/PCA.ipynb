{
 "cells": [
  {
   "cell_type": "code",
   "execution_count": 36,
   "id": "59cf6d92-199a-48c9-9c0d-5b5bd971df06",
   "metadata": {},
   "outputs": [
    {
     "name": "stderr",
     "output_type": "stream",
     "text": [
      "/var/folders/md/c9lgr11n7x1c0_tghtfh_kjr0000gn/T/ipykernel_73534/1666255020.py:3: FutureWarning: Dropping of nuisance columns in DataFrame reductions (with 'numeric_only=None') is deprecated; in a future version this will raise TypeError.  Select only valid columns before calling the reduction.\n",
      "  df = df.select_dtypes(['float','int']).drop(columns=['Id']).fillna(df.mean())\n"
     ]
    }
   ],
   "source": [
    "import pandas as pd \n",
    "df = pd.read_csv('https://raw.githubusercontent.com/Matthew-Booth-Py/Datasets/main/house-price/train.csv?token=GHSAT0AAAAAABXNSTQGZXNYYLHKHXUG5S4UYZ43TLQ')\n",
    "df = df.select_dtypes(['float','int']).drop(columns=['Id']).fillna(df.mean())"
   ]
  },
  {
   "cell_type": "code",
   "execution_count": 101,
   "id": "3d7cae12-4a85-4587-b3d0-fc998541ba84",
   "metadata": {},
   "outputs": [],
   "source": [
    "from sklearn.preprocessing import StandardScaler\n",
    "X = StandardScaler().fit_transform(df.drop(columns=['SalePrice']))\n",
    "y = df['SalePrice']"
   ]
  },
  {
   "cell_type": "code",
   "execution_count": 102,
   "id": "79f45e1b-c469-45a8-b4df-96875e2bb49d",
   "metadata": {},
   "outputs": [],
   "source": [
    "from sklearn.model_selection import train_test_split\n",
    "X_train,X_test,y_train,y_test=train_test_split(X,y)"
   ]
  },
  {
   "cell_type": "markdown",
   "id": "eb086dbe-cbfa-4c93-b1f7-7a4ad04040d8",
   "metadata": {},
   "source": [
    "# PCA "
   ]
  },
  {
   "cell_type": "code",
   "execution_count": 129,
   "id": "770c7896-59b8-4230-8550-b467beeaa44c",
   "metadata": {},
   "outputs": [],
   "source": [
    "from sklearn.decomposition import PCA\n",
    "pca = PCA(n_components=None)\n",
    "components = pca.fit_transform(X_train)\n",
    "X = pd.DataFrame(data=components)"
   ]
  },
  {
   "cell_type": "code",
   "execution_count": 130,
   "id": "e1336c55-5d13-4171-9448-5bbc0646ac62",
   "metadata": {},
   "outputs": [
    {
     "data": {
      "text/plain": [
       "36"
      ]
     },
     "execution_count": 130,
     "metadata": {},
     "output_type": "execute_result"
    }
   ],
   "source": [
    "pca.n_components_"
   ]
  },
  {
   "cell_type": "code",
   "execution_count": 131,
   "id": "d21bd720-73a8-4b7f-a030-4676ac90ed6a",
   "metadata": {},
   "outputs": [
    {
     "data": {
      "text/plain": [
       "array([7.45349337e+00, 3.22081836e+00, 2.69997103e+00, 2.03051151e+00,\n",
       "       1.47245201e+00, 1.22623948e+00, 1.19959469e+00, 1.18720204e+00,\n",
       "       1.12715537e+00, 1.10423810e+00, 1.09359965e+00, 1.07595271e+00,\n",
       "       1.03257989e+00, 9.43041121e-01, 9.22489989e-01, 8.84520083e-01,\n",
       "       8.10485706e-01, 7.81082831e-01, 7.32601068e-01, 6.89877178e-01,\n",
       "       6.78006082e-01, 5.79554793e-01, 5.46205251e-01, 5.08521277e-01,\n",
       "       4.17487490e-01, 3.87543903e-01, 3.15970598e-01, 2.82807659e-01,\n",
       "       2.55150061e-01, 2.38757733e-01, 1.98581175e-01, 1.37514916e-01,\n",
       "       1.22629820e-01, 9.20439681e-02, 1.46994238e-30, 3.54528748e-32])"
      ]
     },
     "execution_count": 131,
     "metadata": {},
     "output_type": "execute_result"
    }
   ],
   "source": [
    "pca.explained_variance_"
   ]
  },
  {
   "cell_type": "markdown",
   "id": "0974887f-7ace-43fe-9528-75d2cbee8d7b",
   "metadata": {},
   "source": [
    "- 20% of the classification information is contained by the first principle component. "
   ]
  },
  {
   "cell_type": "code",
   "execution_count": 132,
   "id": "cfe5f27c-2100-4d00-892e-9f23bbf18f6e",
   "metadata": {},
   "outputs": [
    {
     "data": {
      "text/plain": [
       "array([2.04492815e-01, 8.83658414e-02, 7.40759601e-02, 5.57087790e-02,\n",
       "       4.03979506e-02, 3.36429042e-02, 3.29118821e-02, 3.25718794e-02,\n",
       "       3.09244490e-02, 3.02956943e-02, 3.00038198e-02, 2.95196611e-02,\n",
       "       2.83296916e-02, 2.58731207e-02, 2.53092832e-02, 2.42675472e-02,\n",
       "       2.22363522e-02, 2.14296598e-02, 2.00995221e-02, 1.89273565e-02,\n",
       "       1.86016631e-02, 1.59005697e-02, 1.49855972e-02, 1.39517059e-02,\n",
       "       1.14541179e-02, 1.06325906e-02, 8.66891723e-03, 7.75906429e-03,\n",
       "       7.00025501e-03, 6.55051781e-03, 5.44824038e-03, 3.77283655e-03,\n",
       "       3.36445152e-03, 2.52530313e-03, 4.03290968e-32, 9.72679228e-34])"
      ]
     },
     "execution_count": 132,
     "metadata": {},
     "output_type": "execute_result"
    }
   ],
   "source": [
    "pca.explained_variance_ratio_\n"
   ]
  },
  {
   "cell_type": "markdown",
   "id": "dfff7142-a0ca-4154-800f-c4df3f79ea22",
   "metadata": {},
   "source": [
    "# Recursive Feature Elimination\n",
    "- As the name states, RFE recursively eliminates feautres from the feature set once they've been tested through various combinations and weighted in terms of it's predictive value with respect to the target variable. "
   ]
  },
  {
   "cell_type": "code",
   "execution_count": 58,
   "id": "7ae41617-8431-434d-bd02-355780c3378d",
   "metadata": {},
   "outputs": [],
   "source": [
    "from sklearn.feature_selection import RFE\n",
    "import lightgbm as lgbm \n",
    "X = df.drop(columns=['SalePrice'])\n",
    "rfe = RFE(lgbm.LGBMRegressor(), )\n",
    "m = rfe.fit(X_train,y_train)"
   ]
  },
  {
   "cell_type": "code",
   "execution_count": 59,
   "id": "14144e67-63f0-4b48-ad5c-2fa10e28947b",
   "metadata": {},
   "outputs": [
    {
     "data": {
      "text/plain": [
       "(18,\n",
       " array(['LotFrontage', 'LotArea', 'OverallQual', 'OverallCond',\n",
       "        'YearBuilt', 'YearRemodAdd', 'MasVnrArea', 'BsmtFinSF1',\n",
       "        'BsmtUnfSF', 'TotalBsmtSF', '1stFlrSF', '2ndFlrSF', 'GrLivArea',\n",
       "        'GarageYrBlt', 'GarageArea', 'WoodDeckSF', 'OpenPorchSF', 'MoSold'],\n",
       "       dtype=object))"
      ]
     },
     "execution_count": 59,
     "metadata": {},
     "output_type": "execute_result"
    }
   ],
   "source": [
    "m.n_features_, m.get_feature_names_out()"
   ]
  },
  {
   "cell_type": "code",
   "execution_count": 60,
   "id": "46a603c9-3381-4b5d-b642-e579a0b991c9",
   "metadata": {},
   "outputs": [
    {
     "data": {
      "text/plain": [
       "0.8707808419948405"
      ]
     },
     "execution_count": 60,
     "metadata": {},
     "output_type": "execute_result"
    }
   ],
   "source": [
    "from sklearn.metrics import r2_score\n",
    "r2_score(y_test, m.predict(X_test))"
   ]
  },
  {
   "cell_type": "code",
   "execution_count": 61,
   "id": "4f890d08-9ddf-4030-ac52-19b727e3c8c7",
   "metadata": {},
   "outputs": [
    {
     "data": {
      "text/plain": [
       "0.8940494129886501"
      ]
     },
     "execution_count": 61,
     "metadata": {},
     "output_type": "execute_result"
    }
   ],
   "source": [
    "m = lgbm.LGBMRegressor()\n",
    "m.fit(X_train,y_train)\n",
    "r2_score(y_test,m.predict(X_test))"
   ]
  },
  {
   "cell_type": "code",
   "execution_count": null,
   "id": "f5646116-3925-4256-b0ba-893bde0af0d8",
   "metadata": {},
   "outputs": [],
   "source": []
  }
 ],
 "metadata": {
  "kernelspec": {
   "display_name": "Python [conda env:ml]",
   "language": "python",
   "name": "conda-env-ml-py"
  },
  "language_info": {
   "codemirror_mode": {
    "name": "ipython",
    "version": 3
   },
   "file_extension": ".py",
   "mimetype": "text/x-python",
   "name": "python",
   "nbconvert_exporter": "python",
   "pygments_lexer": "ipython3",
   "version": "3.10.6"
  }
 },
 "nbformat": 4,
 "nbformat_minor": 5
}
