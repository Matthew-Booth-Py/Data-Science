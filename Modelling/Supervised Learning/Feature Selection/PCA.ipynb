{
 "cells": [
  {
   "cell_type": "code",
   "execution_count": 1,
   "id": "59cf6d92-199a-48c9-9c0d-5b5bd971df06",
   "metadata": {},
   "outputs": [
    {
     "name": "stderr",
     "output_type": "stream",
     "text": [
      "/var/folders/md/c9lgr11n7x1c0_tghtfh_kjr0000gn/T/ipykernel_6007/4136769931.py:10: FutureWarning: Dropping of nuisance columns in DataFrame reductions (with 'numeric_only=None') is deprecated; in a future version this will raise TypeError.  Select only valid columns before calling the reduction.\n",
      "  df = df.select_dtypes(['float','int']).drop(columns=['Id']).fillna(df.mean())\n"
     ]
    }
   ],
   "source": [
    "import pandas as pd \n",
    "import lightgbm as lgbm \n",
    "from sklearn.metrics import r2_score\n",
    "from sklearn.decomposition import PCA\n",
    "from sklearn.feature_selection import RFE\n",
    "from sklearn.preprocessing import StandardScaler\n",
    "from sklearn.model_selection import train_test_split\n",
    "\n",
    "df = pd.read_csv('https://raw.githubusercontent.com/Matthew-Booth-Py/Datasets/main/house-price/train.csv?token=GHSAT0AAAAAABXNSTQGLR4HGN4QYUP5KKYAYZ6DZ6Q')\n",
    "df = df.select_dtypes(['float','int']).drop(columns=['Id']).fillna(df.mean())"
   ]
  },
  {
   "cell_type": "code",
   "execution_count": 2,
   "id": "3d7cae12-4a85-4587-b3d0-fc998541ba84",
   "metadata": {},
   "outputs": [],
   "source": [
    "X = StandardScaler().fit_transform(df.drop(columns=['SalePrice']))\n",
    "y = df['SalePrice']"
   ]
  },
  {
   "cell_type": "code",
   "execution_count": 9,
   "id": "79f45e1b-c469-45a8-b4df-96875e2bb49d",
   "metadata": {},
   "outputs": [],
   "source": [
    "X_train,X_test,y_train,y_test=train_test_split(X,y,random_state=0)"
   ]
  },
  {
   "cell_type": "markdown",
   "id": "c466804d-1e1b-4da1-9e49-f0e47cc2e013",
   "metadata": {},
   "source": [
    "# Baseline Model"
   ]
  },
  {
   "cell_type": "code",
   "execution_count": 4,
   "id": "ed0253e9-e70a-4db0-be49-7dcf60551c64",
   "metadata": {},
   "outputs": [
    {
     "data": {
      "text/plain": [
       "0.8615964998893736"
      ]
     },
     "execution_count": 4,
     "metadata": {},
     "output_type": "execute_result"
    }
   ],
   "source": [
    "m = lgbm.LGBMRegressor()\n",
    "m.fit(X_train,y_train)\n",
    "r2_score(y_test, m.predict(X_test))"
   ]
  },
  {
   "cell_type": "markdown",
   "id": "eb086dbe-cbfa-4c93-b1f7-7a4ad04040d8",
   "metadata": {},
   "source": [
    "# PCA "
   ]
  },
  {
   "cell_type": "code",
   "execution_count": 5,
   "id": "770c7896-59b8-4230-8550-b467beeaa44c",
   "metadata": {},
   "outputs": [
    {
     "name": "stdout",
     "output_type": "stream",
     "text": [
      "[0.19182215 0.0898612  0.06960899 0.05538939 0.04166799]\n"
     ]
    }
   ],
   "source": [
    "pca = PCA(n_components=5)\n",
    "components = pca.fit_transform(X_train)\n",
    "Z = pd.DataFrame(data=components)\n",
    "print(pca.explained_variance_ratio_)"
   ]
  },
  {
   "cell_type": "code",
   "execution_count": 6,
   "id": "d7212fbb-658a-4008-a15e-b43a1edc1ab6",
   "metadata": {},
   "outputs": [
    {
     "data": {
      "text/plain": [
       "0.8231688555989081"
      ]
     },
     "execution_count": 6,
     "metadata": {},
     "output_type": "execute_result"
    }
   ],
   "source": [
    "m = lgbm.LGBMRegressor()\n",
    "m.fit(Z, y_train)\n",
    "X_test = pca.transform(X_test)\n",
    "r2_score(y_test, m.predict(X_test))"
   ]
  },
  {
   "cell_type": "markdown",
   "id": "f996b4b4-4318-41ae-aa6a-930e10dcf097",
   "metadata": {},
   "source": [
    "**Sacrifice Accuracy for Explainability**"
   ]
  },
  {
   "cell_type": "markdown",
   "id": "6ac52ec2-6b31-4010-94a2-f14942ae1d78",
   "metadata": {},
   "source": [
    "- 20% of the classification information is contained by the first principle component. "
   ]
  },
  {
   "cell_type": "markdown",
   "id": "dfff7142-a0ca-4154-800f-c4df3f79ea22",
   "metadata": {},
   "source": [
    "# Recursive Feature Elimination\n",
    "- As the name states, RFE recursively eliminates feautres from the feature set once they've been tested through various combinations and weighted in terms of it's predictive value with respect to the target variable. "
   ]
  },
  {
   "cell_type": "code",
   "execution_count": 11,
   "id": "7ae41617-8431-434d-bd02-355780c3378d",
   "metadata": {},
   "outputs": [],
   "source": [
    "Z = df.drop(columns=['SalePrice'])\n",
    "rfe = RFE(lgbm.LGBMRegressor(), )\n",
    "m = rfe.fit(X_train,y_train)"
   ]
  },
  {
   "cell_type": "code",
   "execution_count": 13,
   "id": "46a603c9-3381-4b5d-b642-e579a0b991c9",
   "metadata": {},
   "outputs": [
    {
     "data": {
      "text/plain": [
       "0.8363705941922115"
      ]
     },
     "execution_count": 13,
     "metadata": {},
     "output_type": "execute_result"
    }
   ],
   "source": [
    "r2_score(y_test, m.predict(X_test))"
   ]
  },
  {
   "cell_type": "code",
   "execution_count": null,
   "id": "e19730f5-8433-470f-8f1b-0cbcc6fbec84",
   "metadata": {},
   "outputs": [],
   "source": []
  }
 ],
 "metadata": {
  "kernelspec": {
   "display_name": "Python [conda env:ml]",
   "language": "python",
   "name": "conda-env-ml-py"
  },
  "language_info": {
   "codemirror_mode": {
    "name": "ipython",
    "version": 3
   },
   "file_extension": ".py",
   "mimetype": "text/x-python",
   "name": "python",
   "nbconvert_exporter": "python",
   "pygments_lexer": "ipython3",
   "version": "3.10.6"
  }
 },
 "nbformat": 4,
 "nbformat_minor": 5
}
