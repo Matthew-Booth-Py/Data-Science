{
 "cells": [
  {
   "cell_type": "markdown",
   "id": "ad579fb3-301e-49cc-be5e-334df41f8f45",
   "metadata": {},
   "source": [
    "# Model Pipeline\n",
    "---"
   ]
  },
  {
   "cell_type": "code",
   "execution_count": 118,
   "id": "6eea2cba-be4a-4612-992b-ce0bb92c0238",
   "metadata": {},
   "outputs": [],
   "source": [
    "import pandas as pd \n",
    "from sklearn.pipeline import Pipeline as P\n",
    "from sklearn.preprocessing import StandardScaler, LabelEncoder\n",
    "from sklearn.linear_model import LinearRegression\n",
    "from sklearn.compose import ColumnTransformer\n",
    "from sklearn.model_selection import train_test_split\n",
    "from sklearn.impute import SimpleImputer\n",
    "from sklearn.preprocessing import OneHotEncoder\n",
    "\n",
    "train = pd.read_csv('data/train.csv')"
   ]
  },
  {
   "cell_type": "markdown",
   "id": "74c44543-8a81-427f-b27c-dcf226d59944",
   "metadata": {
    "tags": []
   },
   "source": [
    "# Get Columns of different types "
   ]
  },
  {
   "cell_type": "code",
   "execution_count": 119,
   "id": "9865a432-79bb-4ae5-ad85-7a3a921f281f",
   "metadata": {},
   "outputs": [],
   "source": [
    "int_cols = train.select_dtypes(['int', 'float']).drop(columns=['SalePrice']).columns.tolist()\n",
    "object_cols  = train.select_dtypes('object').columns.tolist()"
   ]
  },
  {
   "cell_type": "code",
   "execution_count": 120,
   "id": "da0eeed1-f6d1-4e96-98f0-70bcb7814d27",
   "metadata": {},
   "outputs": [],
   "source": [
    "train[int_cols] = train[int_cols].fillna(0)\n",
    "train[object_cols] = train[object_cols].fillna('NaN')"
   ]
  },
  {
   "cell_type": "code",
   "execution_count": 129,
   "id": "6a68bb5a-cb35-4624-8314-f1b4c9e7f967",
   "metadata": {},
   "outputs": [],
   "source": [
    "X,y=train.drop(columns=['SalePrice']),train['SalePrice']\n",
    "X_train,X_test,y_train,y_test=train_test_split(X,y, random_state=0, test_size=.3)"
   ]
  },
  {
   "cell_type": "markdown",
   "id": "bb0d77bb-aa12-472d-8b2c-ebf1acf7c206",
   "metadata": {},
   "source": [
    "# Numerical Transforms"
   ]
  },
  {
   "cell_type": "code",
   "execution_count": 130,
   "id": "3f783953-e575-47b4-bd5e-560a2080c467",
   "metadata": {},
   "outputs": [],
   "source": [
    "num_pipeline = P([\n",
    "    ('std_scaler', StandardScaler())\n",
    "])\n",
    "num_p = num_pipeline.fit_transform(train[int_cols])"
   ]
  },
  {
   "cell_type": "markdown",
   "id": "6848a383-2bd6-43f9-9509-497dc5393754",
   "metadata": {},
   "source": [
    "# Categorical Transforms"
   ]
  },
  {
   "cell_type": "code",
   "execution_count": 131,
   "id": "509fbc12-6149-4b6f-8380-c1c0ae4e6bb3",
   "metadata": {},
   "outputs": [],
   "source": [
    "categorical_pipeline = P(steps=[\n",
    "    ('impute', SimpleImputer(strategy='most_frequent')),\n",
    "    ('one-hot', OneHotEncoder(handle_unknown='ignore', sparse=False))\n",
    "])\n",
    "cat_p = categorical_pipeline.fit_transform(train[object_cols])"
   ]
  },
  {
   "cell_type": "markdown",
   "id": "05f5c0bc-6af9-48e9-9a3b-c3bcf35d7153",
   "metadata": {},
   "source": [
    "# Call Both Pipes"
   ]
  },
  {
   "cell_type": "code",
   "execution_count": 132,
   "id": "d951f582-9abd-4875-87b5-a07c0e55cd48",
   "metadata": {},
   "outputs": [],
   "source": [
    "full_processor = ColumnTransformer(transformers=[\n",
    "    ('number', num_pipeline, int_cols),\n",
    "    ('category', categorical_pipeline, object_cols)\n",
    "])\n",
    "full_p = full_processor.fit_transform(X_train)"
   ]
  },
  {
   "cell_type": "code",
   "execution_count": 133,
   "id": "94e15f7c-3084-4a8d-8e1a-204164cce361",
   "metadata": {},
   "outputs": [],
   "source": [
    "data_pipe = P([\n",
    "    ('full_processor', full_processor),\n",
    "    ('model', LinearRegression())\n",
    "    ])\n"
   ]
  },
  {
   "cell_type": "code",
   "execution_count": 135,
   "id": "8808b182-64a4-4f0c-bf29-dd97b3d4c759",
   "metadata": {},
   "outputs": [
    {
     "data": {
      "text/plain": [
       "-1.0045964394485512e+17"
      ]
     },
     "execution_count": 135,
     "metadata": {},
     "output_type": "execute_result"
    }
   ],
   "source": [
    "data_pipe.score(X_test,y_test)"
   ]
  },
  {
   "cell_type": "code",
   "execution_count": 233,
   "id": "19855232-f0b7-40f0-9aee-398fe0342897",
   "metadata": {},
   "outputs": [],
   "source": [
    "preds=pd.Series(data_pipe.predict(X_test)).reset_index(drop=True).astype('int')\n",
    "preds.loc[preds < 0] = 0\n",
    "preds.loc[preds > 1000000] = 100000\n",
    "preds = preds.loc[preds != 0]"
   ]
  },
  {
   "cell_type": "code",
   "execution_count": 234,
   "id": "1ea3dcd7-bdb7-47fa-9dd9-bb22a2d3b5fe",
   "metadata": {},
   "outputs": [
    {
     "data": {
      "text/plain": [
       "-1.0045964394485512e+17"
      ]
     },
     "execution_count": 234,
     "metadata": {},
     "output_type": "execute_result"
    }
   ],
   "source": [
    "from sklearn.metrics import r2_score\n",
    "r2_score(y_test, data_pipe.predict(X_test).tolist())"
   ]
  },
  {
   "cell_type": "code",
   "execution_count": 235,
   "id": "359f5159-398c-4dab-8c9e-cb9186f0868d",
   "metadata": {},
   "outputs": [
    {
     "data": {
      "text/plain": [
       "<AxesSubplot:xlabel='SalePrice', ylabel='SalePrice'>"
      ]
     },
     "execution_count": 235,
     "metadata": {},
     "output_type": "execute_result"
    },
    {
     "data": {
      "image/png": "[encoded data removed]",
      "text/plain": [
       "<Figure size 432x288 with 1 Axes>"
      ]
     },
     "metadata": {
      "needs_background": "light"
     },
     "output_type": "display_data"
    }
   ],
   "source": [
    "import seaborn as sns\n",
    "sns.scatterplot(x=preds, y=y_test.reset_index(drop=True))\n",
    "sns.scatterplot(x=y_test.reset_index(drop=True), y=y_test.reset_index(drop=True))"
   ]
  },
  {
   "cell_type": "code",
   "execution_count": 230,
   "id": "e2f2be66-fb27-4ac1-abde-84e9b5c888e5",
   "metadata": {},
   "outputs": [
    {
     "data": {
      "text/plain": [
       "0      250704\n",
       "1      149314\n",
       "2      111287\n",
       "3      212133\n",
       "4      100912\n",
       "        ...  \n",
       "433         0\n",
       "434    162603\n",
       "435    352804\n",
       "436    207249\n",
       "437    467388\n",
       "Length: 438, dtype: int64"
      ]
     },
     "execution_count": 230,
     "metadata": {},
     "output_type": "execute_result"
    }
   ],
   "source": [
    "preds"
   ]
  },
  {
   "cell_type": "code",
   "execution_count": null,
   "id": "2f5cd7c3-2243-4867-ae9c-647c9cd5dae5",
   "metadata": {},
   "outputs": [],
   "source": []
  }
 ],
 "metadata": {
  "kernelspec": {
   "display_name": "Python [conda env:root] *",
   "language": "python",
   "name": "conda-root-py"
  },
  "language_info": {
   "codemirror_mode": {
    "name": "ipython",
    "version": 3
   },
   "file_extension": ".py",
   "mimetype": "text/x-python",
   "name": "python",
   "nbconvert_exporter": "python",
   "pygments_lexer": "ipython3",
   "version": "3.9.10"
  }
 },
 "nbformat": 4,
 "nbformat_minor": 5
}
